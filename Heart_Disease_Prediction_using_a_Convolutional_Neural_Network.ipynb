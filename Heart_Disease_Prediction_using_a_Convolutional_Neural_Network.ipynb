{
  "nbformat": 4,
  "nbformat_minor": 0,
  "metadata": {
    "colab": {
      "provenance": [],
      "authorship_tag": "ABX9TyMcJMMK9r6s1nOUfm5yZAL8",
      "include_colab_link": true
    },
    "kernelspec": {
      "name": "python3",
      "display_name": "Python 3"
    },
    "language_info": {
      "name": "python"
    }
  },
  "cells": [
    {
      "cell_type": "markdown",
      "metadata": {
        "id": "view-in-github",
        "colab_type": "text"
      },
      "source": [
        "<a href=\"https://colab.research.google.com/github/WinuWijegunawardhana98/Integrated-Healthcare-Management-System-for-Vulnerable-Populations/blob/Sandaruwan/Heart_Disease_Prediction_using_a_Convolutional_Neural_Network.ipynb\" target=\"_parent\"><img src=\"https://colab.research.google.com/assets/colab-badge.svg\" alt=\"Open In Colab\"/></a>"
      ]
    },
    {
      "cell_type": "markdown",
      "source": [
        "Import Dependencies"
      ],
      "metadata": {
        "id": "ByIUjD0V70T2"
      }
    },
    {
      "cell_type": "code",
      "source": [
        "import pandas as pd\n",
        "import numpy as np\n",
        "import seaborn as sb\n",
        "from sklearn.tree import DecisionTreeClassifier\n",
        "from sklearn.tree import export_graphviz\n",
        "from six import StringIO\n",
        "from IPython.display import Image\n",
        "import pydotplus\n",
        "from sklearn import metrics\n",
        "from sklearn.naive_bayes import BernoulliNB\n",
        "from sklearn.naive_bayes import CategoricalNB\n",
        "from sklearn.naive_bayes import GaussianNB\n",
        "from sklearn import linear_model\n",
        "from sklearn import metrics\n",
        "import matplotlib.pyplot as plt\n",
        "%matplotlib inline"
      ],
      "metadata": {
        "id": "oZG4uN2Z74yI"
      },
      "execution_count": 1,
      "outputs": []
    },
    {
      "cell_type": "markdown",
      "source": [
        "Import Data Set"
      ],
      "metadata": {
        "id": "859sO10S8LOd"
      }
    },
    {
      "cell_type": "code",
      "source": [
        "# Read the dataset from the CSV file\n",
        "df = pd.read_csv('/content/heartdataset (1).csv')\n",
        "# Check for any missing (null) values in the dataset\n",
        "df.isnull().sum()\n",
        "# Display the entire dataset\n",
        "df"
      ],
      "metadata": {
        "colab": {
          "base_uri": "https://localhost:8080/",
          "height": 424
        },
        "id": "2Yt27tZ18NlH",
        "outputId": "11bccf5c-9750-401f-be64-f7944fb3b468"
      },
      "execution_count": 3,
      "outputs": [
        {
          "output_type": "execute_result",
          "data": {
            "text/plain": [
              "      age  sex  cp  trestbps  chol  fbs  restecg  thalach  exang  oldpeak  \\\n",
              "0      52    1   0       125   212    0        1      168      0      1.0   \n",
              "1      53    1   0       140   203    1        0      155      1      3.1   \n",
              "2      70    1   0       145   174    0        1      125      1      2.6   \n",
              "3      61    1   0       148   203    0        1      161      0      0.0   \n",
              "4      62    0   0       138   294    1        1      106      0      1.9   \n",
              "...   ...  ...  ..       ...   ...  ...      ...      ...    ...      ...   \n",
              "1020   59    1   1       140   221    0        1      164      1      0.0   \n",
              "1021   60    1   0       125   258    0        0      141      1      2.8   \n",
              "1022   47    1   0       110   275    0        0      118      1      1.0   \n",
              "1023   50    0   0       110   254    0        0      159      0      0.0   \n",
              "1024   54    1   0       120   188    0        1      113      0      1.4   \n",
              "\n",
              "      slope  ca  thal  target  \n",
              "0         2   2     3       0  \n",
              "1         0   0     3       0  \n",
              "2         0   0     3       0  \n",
              "3         2   1     3       0  \n",
              "4         1   3     2       0  \n",
              "...     ...  ..   ...     ...  \n",
              "1020      2   0     2       1  \n",
              "1021      1   1     3       0  \n",
              "1022      1   1     2       0  \n",
              "1023      2   0     2       1  \n",
              "1024      1   1     3       0  \n",
              "\n",
              "[1025 rows x 14 columns]"
            ],
            "text/html": [
              "\n",
              "  <div id=\"df-5c0fcda2-b16f-4714-aadb-764048d85f33\" class=\"colab-df-container\">\n",
              "    <div>\n",
              "<style scoped>\n",
              "    .dataframe tbody tr th:only-of-type {\n",
              "        vertical-align: middle;\n",
              "    }\n",
              "\n",
              "    .dataframe tbody tr th {\n",
              "        vertical-align: top;\n",
              "    }\n",
              "\n",
              "    .dataframe thead th {\n",
              "        text-align: right;\n",
              "    }\n",
              "</style>\n",
              "<table border=\"1\" class=\"dataframe\">\n",
              "  <thead>\n",
              "    <tr style=\"text-align: right;\">\n",
              "      <th></th>\n",
              "      <th>age</th>\n",
              "      <th>sex</th>\n",
              "      <th>cp</th>\n",
              "      <th>trestbps</th>\n",
              "      <th>chol</th>\n",
              "      <th>fbs</th>\n",
              "      <th>restecg</th>\n",
              "      <th>thalach</th>\n",
              "      <th>exang</th>\n",
              "      <th>oldpeak</th>\n",
              "      <th>slope</th>\n",
              "      <th>ca</th>\n",
              "      <th>thal</th>\n",
              "      <th>target</th>\n",
              "    </tr>\n",
              "  </thead>\n",
              "  <tbody>\n",
              "    <tr>\n",
              "      <th>0</th>\n",
              "      <td>52</td>\n",
              "      <td>1</td>\n",
              "      <td>0</td>\n",
              "      <td>125</td>\n",
              "      <td>212</td>\n",
              "      <td>0</td>\n",
              "      <td>1</td>\n",
              "      <td>168</td>\n",
              "      <td>0</td>\n",
              "      <td>1.0</td>\n",
              "      <td>2</td>\n",
              "      <td>2</td>\n",
              "      <td>3</td>\n",
              "      <td>0</td>\n",
              "    </tr>\n",
              "    <tr>\n",
              "      <th>1</th>\n",
              "      <td>53</td>\n",
              "      <td>1</td>\n",
              "      <td>0</td>\n",
              "      <td>140</td>\n",
              "      <td>203</td>\n",
              "      <td>1</td>\n",
              "      <td>0</td>\n",
              "      <td>155</td>\n",
              "      <td>1</td>\n",
              "      <td>3.1</td>\n",
              "      <td>0</td>\n",
              "      <td>0</td>\n",
              "      <td>3</td>\n",
              "      <td>0</td>\n",
              "    </tr>\n",
              "    <tr>\n",
              "      <th>2</th>\n",
              "      <td>70</td>\n",
              "      <td>1</td>\n",
              "      <td>0</td>\n",
              "      <td>145</td>\n",
              "      <td>174</td>\n",
              "      <td>0</td>\n",
              "      <td>1</td>\n",
              "      <td>125</td>\n",
              "      <td>1</td>\n",
              "      <td>2.6</td>\n",
              "      <td>0</td>\n",
              "      <td>0</td>\n",
              "      <td>3</td>\n",
              "      <td>0</td>\n",
              "    </tr>\n",
              "    <tr>\n",
              "      <th>3</th>\n",
              "      <td>61</td>\n",
              "      <td>1</td>\n",
              "      <td>0</td>\n",
              "      <td>148</td>\n",
              "      <td>203</td>\n",
              "      <td>0</td>\n",
              "      <td>1</td>\n",
              "      <td>161</td>\n",
              "      <td>0</td>\n",
              "      <td>0.0</td>\n",
              "      <td>2</td>\n",
              "      <td>1</td>\n",
              "      <td>3</td>\n",
              "      <td>0</td>\n",
              "    </tr>\n",
              "    <tr>\n",
              "      <th>4</th>\n",
              "      <td>62</td>\n",
              "      <td>0</td>\n",
              "      <td>0</td>\n",
              "      <td>138</td>\n",
              "      <td>294</td>\n",
              "      <td>1</td>\n",
              "      <td>1</td>\n",
              "      <td>106</td>\n",
              "      <td>0</td>\n",
              "      <td>1.9</td>\n",
              "      <td>1</td>\n",
              "      <td>3</td>\n",
              "      <td>2</td>\n",
              "      <td>0</td>\n",
              "    </tr>\n",
              "    <tr>\n",
              "      <th>...</th>\n",
              "      <td>...</td>\n",
              "      <td>...</td>\n",
              "      <td>...</td>\n",
              "      <td>...</td>\n",
              "      <td>...</td>\n",
              "      <td>...</td>\n",
              "      <td>...</td>\n",
              "      <td>...</td>\n",
              "      <td>...</td>\n",
              "      <td>...</td>\n",
              "      <td>...</td>\n",
              "      <td>...</td>\n",
              "      <td>...</td>\n",
              "      <td>...</td>\n",
              "    </tr>\n",
              "    <tr>\n",
              "      <th>1020</th>\n",
              "      <td>59</td>\n",
              "      <td>1</td>\n",
              "      <td>1</td>\n",
              "      <td>140</td>\n",
              "      <td>221</td>\n",
              "      <td>0</td>\n",
              "      <td>1</td>\n",
              "      <td>164</td>\n",
              "      <td>1</td>\n",
              "      <td>0.0</td>\n",
              "      <td>2</td>\n",
              "      <td>0</td>\n",
              "      <td>2</td>\n",
              "      <td>1</td>\n",
              "    </tr>\n",
              "    <tr>\n",
              "      <th>1021</th>\n",
              "      <td>60</td>\n",
              "      <td>1</td>\n",
              "      <td>0</td>\n",
              "      <td>125</td>\n",
              "      <td>258</td>\n",
              "      <td>0</td>\n",
              "      <td>0</td>\n",
              "      <td>141</td>\n",
              "      <td>1</td>\n",
              "      <td>2.8</td>\n",
              "      <td>1</td>\n",
              "      <td>1</td>\n",
              "      <td>3</td>\n",
              "      <td>0</td>\n",
              "    </tr>\n",
              "    <tr>\n",
              "      <th>1022</th>\n",
              "      <td>47</td>\n",
              "      <td>1</td>\n",
              "      <td>0</td>\n",
              "      <td>110</td>\n",
              "      <td>275</td>\n",
              "      <td>0</td>\n",
              "      <td>0</td>\n",
              "      <td>118</td>\n",
              "      <td>1</td>\n",
              "      <td>1.0</td>\n",
              "      <td>1</td>\n",
              "      <td>1</td>\n",
              "      <td>2</td>\n",
              "      <td>0</td>\n",
              "    </tr>\n",
              "    <tr>\n",
              "      <th>1023</th>\n",
              "      <td>50</td>\n",
              "      <td>0</td>\n",
              "      <td>0</td>\n",
              "      <td>110</td>\n",
              "      <td>254</td>\n",
              "      <td>0</td>\n",
              "      <td>0</td>\n",
              "      <td>159</td>\n",
              "      <td>0</td>\n",
              "      <td>0.0</td>\n",
              "      <td>2</td>\n",
              "      <td>0</td>\n",
              "      <td>2</td>\n",
              "      <td>1</td>\n",
              "    </tr>\n",
              "    <tr>\n",
              "      <th>1024</th>\n",
              "      <td>54</td>\n",
              "      <td>1</td>\n",
              "      <td>0</td>\n",
              "      <td>120</td>\n",
              "      <td>188</td>\n",
              "      <td>0</td>\n",
              "      <td>1</td>\n",
              "      <td>113</td>\n",
              "      <td>0</td>\n",
              "      <td>1.4</td>\n",
              "      <td>1</td>\n",
              "      <td>1</td>\n",
              "      <td>3</td>\n",
              "      <td>0</td>\n",
              "    </tr>\n",
              "  </tbody>\n",
              "</table>\n",
              "<p>1025 rows × 14 columns</p>\n",
              "</div>\n",
              "    <div class=\"colab-df-buttons\">\n",
              "\n",
              "  <div class=\"colab-df-container\">\n",
              "    <button class=\"colab-df-convert\" onclick=\"convertToInteractive('df-5c0fcda2-b16f-4714-aadb-764048d85f33')\"\n",
              "            title=\"Convert this dataframe to an interactive table.\"\n",
              "            style=\"display:none;\">\n",
              "\n",
              "  <svg xmlns=\"http://www.w3.org/2000/svg\" height=\"24px\" viewBox=\"0 -960 960 960\">\n",
              "    <path d=\"M120-120v-720h720v720H120Zm60-500h600v-160H180v160Zm220 220h160v-160H400v160Zm0 220h160v-160H400v160ZM180-400h160v-160H180v160Zm440 0h160v-160H620v160ZM180-180h160v-160H180v160Zm440 0h160v-160H620v160Z\"/>\n",
              "  </svg>\n",
              "    </button>\n",
              "\n",
              "  <style>\n",
              "    .colab-df-container {\n",
              "      display:flex;\n",
              "      gap: 12px;\n",
              "    }\n",
              "\n",
              "    .colab-df-convert {\n",
              "      background-color: #E8F0FE;\n",
              "      border: none;\n",
              "      border-radius: 50%;\n",
              "      cursor: pointer;\n",
              "      display: none;\n",
              "      fill: #1967D2;\n",
              "      height: 32px;\n",
              "      padding: 0 0 0 0;\n",
              "      width: 32px;\n",
              "    }\n",
              "\n",
              "    .colab-df-convert:hover {\n",
              "      background-color: #E2EBFA;\n",
              "      box-shadow: 0px 1px 2px rgba(60, 64, 67, 0.3), 0px 1px 3px 1px rgba(60, 64, 67, 0.15);\n",
              "      fill: #174EA6;\n",
              "    }\n",
              "\n",
              "    .colab-df-buttons div {\n",
              "      margin-bottom: 4px;\n",
              "    }\n",
              "\n",
              "    [theme=dark] .colab-df-convert {\n",
              "      background-color: #3B4455;\n",
              "      fill: #D2E3FC;\n",
              "    }\n",
              "\n",
              "    [theme=dark] .colab-df-convert:hover {\n",
              "      background-color: #434B5C;\n",
              "      box-shadow: 0px 1px 3px 1px rgba(0, 0, 0, 0.15);\n",
              "      filter: drop-shadow(0px 1px 2px rgba(0, 0, 0, 0.3));\n",
              "      fill: #FFFFFF;\n",
              "    }\n",
              "  </style>\n",
              "\n",
              "    <script>\n",
              "      const buttonEl =\n",
              "        document.querySelector('#df-5c0fcda2-b16f-4714-aadb-764048d85f33 button.colab-df-convert');\n",
              "      buttonEl.style.display =\n",
              "        google.colab.kernel.accessAllowed ? 'block' : 'none';\n",
              "\n",
              "      async function convertToInteractive(key) {\n",
              "        const element = document.querySelector('#df-5c0fcda2-b16f-4714-aadb-764048d85f33');\n",
              "        const dataTable =\n",
              "          await google.colab.kernel.invokeFunction('convertToInteractive',\n",
              "                                                    [key], {});\n",
              "        if (!dataTable) return;\n",
              "\n",
              "        const docLinkHtml = 'Like what you see? Visit the ' +\n",
              "          '<a target=\"_blank\" href=https://colab.research.google.com/notebooks/data_table.ipynb>data table notebook</a>'\n",
              "          + ' to learn more about interactive tables.';\n",
              "        element.innerHTML = '';\n",
              "        dataTable['output_type'] = 'display_data';\n",
              "        await google.colab.output.renderOutput(dataTable, element);\n",
              "        const docLink = document.createElement('div');\n",
              "        docLink.innerHTML = docLinkHtml;\n",
              "        element.appendChild(docLink);\n",
              "      }\n",
              "    </script>\n",
              "  </div>\n",
              "\n",
              "\n",
              "<div id=\"df-7d4e05c5-787a-429e-8e96-e69a5a303137\">\n",
              "  <button class=\"colab-df-quickchart\" onclick=\"quickchart('df-7d4e05c5-787a-429e-8e96-e69a5a303137')\"\n",
              "            title=\"Suggest charts\"\n",
              "            style=\"display:none;\">\n",
              "\n",
              "<svg xmlns=\"http://www.w3.org/2000/svg\" height=\"24px\"viewBox=\"0 0 24 24\"\n",
              "     width=\"24px\">\n",
              "    <g>\n",
              "        <path d=\"M19 3H5c-1.1 0-2 .9-2 2v14c0 1.1.9 2 2 2h14c1.1 0 2-.9 2-2V5c0-1.1-.9-2-2-2zM9 17H7v-7h2v7zm4 0h-2V7h2v10zm4 0h-2v-4h2v4z\"/>\n",
              "    </g>\n",
              "</svg>\n",
              "  </button>\n",
              "\n",
              "<style>\n",
              "  .colab-df-quickchart {\n",
              "      --bg-color: #E8F0FE;\n",
              "      --fill-color: #1967D2;\n",
              "      --hover-bg-color: #E2EBFA;\n",
              "      --hover-fill-color: #174EA6;\n",
              "      --disabled-fill-color: #AAA;\n",
              "      --disabled-bg-color: #DDD;\n",
              "  }\n",
              "\n",
              "  [theme=dark] .colab-df-quickchart {\n",
              "      --bg-color: #3B4455;\n",
              "      --fill-color: #D2E3FC;\n",
              "      --hover-bg-color: #434B5C;\n",
              "      --hover-fill-color: #FFFFFF;\n",
              "      --disabled-bg-color: #3B4455;\n",
              "      --disabled-fill-color: #666;\n",
              "  }\n",
              "\n",
              "  .colab-df-quickchart {\n",
              "    background-color: var(--bg-color);\n",
              "    border: none;\n",
              "    border-radius: 50%;\n",
              "    cursor: pointer;\n",
              "    display: none;\n",
              "    fill: var(--fill-color);\n",
              "    height: 32px;\n",
              "    padding: 0;\n",
              "    width: 32px;\n",
              "  }\n",
              "\n",
              "  .colab-df-quickchart:hover {\n",
              "    background-color: var(--hover-bg-color);\n",
              "    box-shadow: 0 1px 2px rgba(60, 64, 67, 0.3), 0 1px 3px 1px rgba(60, 64, 67, 0.15);\n",
              "    fill: var(--button-hover-fill-color);\n",
              "  }\n",
              "\n",
              "  .colab-df-quickchart-complete:disabled,\n",
              "  .colab-df-quickchart-complete:disabled:hover {\n",
              "    background-color: var(--disabled-bg-color);\n",
              "    fill: var(--disabled-fill-color);\n",
              "    box-shadow: none;\n",
              "  }\n",
              "\n",
              "  .colab-df-spinner {\n",
              "    border: 2px solid var(--fill-color);\n",
              "    border-color: transparent;\n",
              "    border-bottom-color: var(--fill-color);\n",
              "    animation:\n",
              "      spin 1s steps(1) infinite;\n",
              "  }\n",
              "\n",
              "  @keyframes spin {\n",
              "    0% {\n",
              "      border-color: transparent;\n",
              "      border-bottom-color: var(--fill-color);\n",
              "      border-left-color: var(--fill-color);\n",
              "    }\n",
              "    20% {\n",
              "      border-color: transparent;\n",
              "      border-left-color: var(--fill-color);\n",
              "      border-top-color: var(--fill-color);\n",
              "    }\n",
              "    30% {\n",
              "      border-color: transparent;\n",
              "      border-left-color: var(--fill-color);\n",
              "      border-top-color: var(--fill-color);\n",
              "      border-right-color: var(--fill-color);\n",
              "    }\n",
              "    40% {\n",
              "      border-color: transparent;\n",
              "      border-right-color: var(--fill-color);\n",
              "      border-top-color: var(--fill-color);\n",
              "    }\n",
              "    60% {\n",
              "      border-color: transparent;\n",
              "      border-right-color: var(--fill-color);\n",
              "    }\n",
              "    80% {\n",
              "      border-color: transparent;\n",
              "      border-right-color: var(--fill-color);\n",
              "      border-bottom-color: var(--fill-color);\n",
              "    }\n",
              "    90% {\n",
              "      border-color: transparent;\n",
              "      border-bottom-color: var(--fill-color);\n",
              "    }\n",
              "  }\n",
              "</style>\n",
              "\n",
              "  <script>\n",
              "    async function quickchart(key) {\n",
              "      const quickchartButtonEl =\n",
              "        document.querySelector('#' + key + ' button');\n",
              "      quickchartButtonEl.disabled = true;  // To prevent multiple clicks.\n",
              "      quickchartButtonEl.classList.add('colab-df-spinner');\n",
              "      try {\n",
              "        const charts = await google.colab.kernel.invokeFunction(\n",
              "            'suggestCharts', [key], {});\n",
              "      } catch (error) {\n",
              "        console.error('Error during call to suggestCharts:', error);\n",
              "      }\n",
              "      quickchartButtonEl.classList.remove('colab-df-spinner');\n",
              "      quickchartButtonEl.classList.add('colab-df-quickchart-complete');\n",
              "    }\n",
              "    (() => {\n",
              "      let quickchartButtonEl =\n",
              "        document.querySelector('#df-7d4e05c5-787a-429e-8e96-e69a5a303137 button');\n",
              "      quickchartButtonEl.style.display =\n",
              "        google.colab.kernel.accessAllowed ? 'block' : 'none';\n",
              "    })();\n",
              "  </script>\n",
              "</div>\n",
              "\n",
              "  <div id=\"id_7f57bb7f-607c-4cff-911a-297bce4436ea\">\n",
              "    <style>\n",
              "      .colab-df-generate {\n",
              "        background-color: #E8F0FE;\n",
              "        border: none;\n",
              "        border-radius: 50%;\n",
              "        cursor: pointer;\n",
              "        display: none;\n",
              "        fill: #1967D2;\n",
              "        height: 32px;\n",
              "        padding: 0 0 0 0;\n",
              "        width: 32px;\n",
              "      }\n",
              "\n",
              "      .colab-df-generate:hover {\n",
              "        background-color: #E2EBFA;\n",
              "        box-shadow: 0px 1px 2px rgba(60, 64, 67, 0.3), 0px 1px 3px 1px rgba(60, 64, 67, 0.15);\n",
              "        fill: #174EA6;\n",
              "      }\n",
              "\n",
              "      [theme=dark] .colab-df-generate {\n",
              "        background-color: #3B4455;\n",
              "        fill: #D2E3FC;\n",
              "      }\n",
              "\n",
              "      [theme=dark] .colab-df-generate:hover {\n",
              "        background-color: #434B5C;\n",
              "        box-shadow: 0px 1px 3px 1px rgba(0, 0, 0, 0.15);\n",
              "        filter: drop-shadow(0px 1px 2px rgba(0, 0, 0, 0.3));\n",
              "        fill: #FFFFFF;\n",
              "      }\n",
              "    </style>\n",
              "    <button class=\"colab-df-generate\" onclick=\"generateWithVariable('df')\"\n",
              "            title=\"Generate code using this dataframe.\"\n",
              "            style=\"display:none;\">\n",
              "\n",
              "  <svg xmlns=\"http://www.w3.org/2000/svg\" height=\"24px\"viewBox=\"0 0 24 24\"\n",
              "       width=\"24px\">\n",
              "    <path d=\"M7,19H8.4L18.45,9,17,7.55,7,17.6ZM5,21V16.75L18.45,3.32a2,2,0,0,1,2.83,0l1.4,1.43a1.91,1.91,0,0,1,.58,1.4,1.91,1.91,0,0,1-.58,1.4L9.25,21ZM18.45,9,17,7.55Zm-12,3A5.31,5.31,0,0,0,4.9,8.1,5.31,5.31,0,0,0,1,6.5,5.31,5.31,0,0,0,4.9,4.9,5.31,5.31,0,0,0,6.5,1,5.31,5.31,0,0,0,8.1,4.9,5.31,5.31,0,0,0,12,6.5,5.46,5.46,0,0,0,6.5,12Z\"/>\n",
              "  </svg>\n",
              "    </button>\n",
              "    <script>\n",
              "      (() => {\n",
              "      const buttonEl =\n",
              "        document.querySelector('#id_7f57bb7f-607c-4cff-911a-297bce4436ea button.colab-df-generate');\n",
              "      buttonEl.style.display =\n",
              "        google.colab.kernel.accessAllowed ? 'block' : 'none';\n",
              "\n",
              "      buttonEl.onclick = () => {\n",
              "        google.colab.notebook.generateWithVariable('df');\n",
              "      }\n",
              "      })();\n",
              "    </script>\n",
              "  </div>\n",
              "\n",
              "    </div>\n",
              "  </div>\n"
            ],
            "application/vnd.google.colaboratory.intrinsic+json": {
              "type": "dataframe",
              "variable_name": "df",
              "summary": "{\n  \"name\": \"df\",\n  \"rows\": 1025,\n  \"fields\": [\n    {\n      \"column\": \"age\",\n      \"properties\": {\n        \"dtype\": \"number\",\n        \"std\": 9,\n        \"min\": 29,\n        \"max\": 77,\n        \"num_unique_values\": 41,\n        \"samples\": [\n          65,\n          50,\n          54\n        ],\n        \"semantic_type\": \"\",\n        \"description\": \"\"\n      }\n    },\n    {\n      \"column\": \"sex\",\n      \"properties\": {\n        \"dtype\": \"number\",\n        \"std\": 0,\n        \"min\": 0,\n        \"max\": 1,\n        \"num_unique_values\": 2,\n        \"samples\": [\n          0,\n          1\n        ],\n        \"semantic_type\": \"\",\n        \"description\": \"\"\n      }\n    },\n    {\n      \"column\": \"cp\",\n      \"properties\": {\n        \"dtype\": \"number\",\n        \"std\": 1,\n        \"min\": 0,\n        \"max\": 3,\n        \"num_unique_values\": 4,\n        \"samples\": [\n          1,\n          3\n        ],\n        \"semantic_type\": \"\",\n        \"description\": \"\"\n      }\n    },\n    {\n      \"column\": \"trestbps\",\n      \"properties\": {\n        \"dtype\": \"number\",\n        \"std\": 17,\n        \"min\": 94,\n        \"max\": 200,\n        \"num_unique_values\": 49,\n        \"samples\": [\n          128,\n          172\n        ],\n        \"semantic_type\": \"\",\n        \"description\": \"\"\n      }\n    },\n    {\n      \"column\": \"chol\",\n      \"properties\": {\n        \"dtype\": \"number\",\n        \"std\": 51,\n        \"min\": 126,\n        \"max\": 564,\n        \"num_unique_values\": 152,\n        \"samples\": [\n          267,\n          262\n        ],\n        \"semantic_type\": \"\",\n        \"description\": \"\"\n      }\n    },\n    {\n      \"column\": \"fbs\",\n      \"properties\": {\n        \"dtype\": \"number\",\n        \"std\": 0,\n        \"min\": 0,\n        \"max\": 1,\n        \"num_unique_values\": 2,\n        \"samples\": [\n          1,\n          0\n        ],\n        \"semantic_type\": \"\",\n        \"description\": \"\"\n      }\n    },\n    {\n      \"column\": \"restecg\",\n      \"properties\": {\n        \"dtype\": \"number\",\n        \"std\": 0,\n        \"min\": 0,\n        \"max\": 2,\n        \"num_unique_values\": 3,\n        \"samples\": [\n          1,\n          0\n        ],\n        \"semantic_type\": \"\",\n        \"description\": \"\"\n      }\n    },\n    {\n      \"column\": \"thalach\",\n      \"properties\": {\n        \"dtype\": \"number\",\n        \"std\": 23,\n        \"min\": 71,\n        \"max\": 202,\n        \"num_unique_values\": 91,\n        \"samples\": [\n          180,\n          152\n        ],\n        \"semantic_type\": \"\",\n        \"description\": \"\"\n      }\n    },\n    {\n      \"column\": \"exang\",\n      \"properties\": {\n        \"dtype\": \"number\",\n        \"std\": 0,\n        \"min\": 0,\n        \"max\": 1,\n        \"num_unique_values\": 2,\n        \"samples\": [\n          1,\n          0\n        ],\n        \"semantic_type\": \"\",\n        \"description\": \"\"\n      }\n    },\n    {\n      \"column\": \"oldpeak\",\n      \"properties\": {\n        \"dtype\": \"number\",\n        \"std\": 1.175053255150173,\n        \"min\": 0.0,\n        \"max\": 6.2,\n        \"num_unique_values\": 40,\n        \"samples\": [\n          2.8,\n          0.4\n        ],\n        \"semantic_type\": \"\",\n        \"description\": \"\"\n      }\n    },\n    {\n      \"column\": \"slope\",\n      \"properties\": {\n        \"dtype\": \"number\",\n        \"std\": 0,\n        \"min\": 0,\n        \"max\": 2,\n        \"num_unique_values\": 3,\n        \"samples\": [\n          2,\n          0\n        ],\n        \"semantic_type\": \"\",\n        \"description\": \"\"\n      }\n    },\n    {\n      \"column\": \"ca\",\n      \"properties\": {\n        \"dtype\": \"number\",\n        \"std\": 1,\n        \"min\": 0,\n        \"max\": 4,\n        \"num_unique_values\": 5,\n        \"samples\": [\n          0,\n          4\n        ],\n        \"semantic_type\": \"\",\n        \"description\": \"\"\n      }\n    },\n    {\n      \"column\": \"thal\",\n      \"properties\": {\n        \"dtype\": \"number\",\n        \"std\": 0,\n        \"min\": 0,\n        \"max\": 3,\n        \"num_unique_values\": 4,\n        \"samples\": [\n          2,\n          0\n        ],\n        \"semantic_type\": \"\",\n        \"description\": \"\"\n      }\n    },\n    {\n      \"column\": \"target\",\n      \"properties\": {\n        \"dtype\": \"number\",\n        \"std\": 0,\n        \"min\": 0,\n        \"max\": 1,\n        \"num_unique_values\": 2,\n        \"samples\": [\n          1,\n          0\n        ],\n        \"semantic_type\": \"\",\n        \"description\": \"\"\n      }\n    }\n  ]\n}"
            }
          },
          "metadata": {},
          "execution_count": 3
        }
      ]
    },
    {
      "cell_type": "markdown",
      "source": [
        "Data Preprocessing and Analysing"
      ],
      "metadata": {
        "id": "Xbg8I-qr9Efu"
      }
    },
    {
      "cell_type": "code",
      "source": [
        "# number of rows and columns in the dataset\n",
        "df.shape"
      ],
      "metadata": {
        "colab": {
          "base_uri": "https://localhost:8080/"
        },
        "id": "BFmkpWaf9OMX",
        "outputId": "39eb91c7-d357-4d4e-e85e-9aa913fd3d1b"
      },
      "execution_count": 4,
      "outputs": [
        {
          "output_type": "execute_result",
          "data": {
            "text/plain": [
              "(1025, 14)"
            ]
          },
          "metadata": {},
          "execution_count": 4
        }
      ]
    },
    {
      "cell_type": "code",
      "source": [
        "# getting some info about the data\n",
        "df.info()"
      ],
      "metadata": {
        "colab": {
          "base_uri": "https://localhost:8080/"
        },
        "id": "LjHlRE_-9W2Y",
        "outputId": "feb8127a-f21a-4bf9-d168-ca2f30cc7706"
      },
      "execution_count": 5,
      "outputs": [
        {
          "output_type": "stream",
          "name": "stdout",
          "text": [
            "<class 'pandas.core.frame.DataFrame'>\n",
            "RangeIndex: 1025 entries, 0 to 1024\n",
            "Data columns (total 14 columns):\n",
            " #   Column    Non-Null Count  Dtype  \n",
            "---  ------    --------------  -----  \n",
            " 0   age       1025 non-null   int64  \n",
            " 1   sex       1025 non-null   int64  \n",
            " 2   cp        1025 non-null   int64  \n",
            " 3   trestbps  1025 non-null   int64  \n",
            " 4   chol      1025 non-null   int64  \n",
            " 5   fbs       1025 non-null   int64  \n",
            " 6   restecg   1025 non-null   int64  \n",
            " 7   thalach   1025 non-null   int64  \n",
            " 8   exang     1025 non-null   int64  \n",
            " 9   oldpeak   1025 non-null   float64\n",
            " 10  slope     1025 non-null   int64  \n",
            " 11  ca        1025 non-null   int64  \n",
            " 12  thal      1025 non-null   int64  \n",
            " 13  target    1025 non-null   int64  \n",
            "dtypes: float64(1), int64(13)\n",
            "memory usage: 112.2 KB\n"
          ]
        }
      ]
    },
    {
      "cell_type": "code",
      "source": [
        "# Extracting the feature columns (first 13 columns) from the DataFrame\n",
        "X = df.iloc[:, :13]\n",
        "# Extracting the target column (14th column, index 13) from the DataFrame\n",
        "Y = df.iloc[:, 13]\n",
        "# Converting the feature DataFrame (X) into a numpy array\n",
        "X = np.array(X)\n",
        "# Converting the target Series (Y) into a numpy array\n",
        "Y = np.array(Y)\n",
        "# Display the feature matrix (X) to check its structure\n",
        "X\n"
      ],
      "metadata": {
        "colab": {
          "base_uri": "https://localhost:8080/"
        },
        "id": "rHJBigQP92ZQ",
        "outputId": "9109b976-8957-49e4-c623-570c35d613b0"
      },
      "execution_count": 6,
      "outputs": [
        {
          "output_type": "execute_result",
          "data": {
            "text/plain": [
              "array([[52.,  1.,  0., ...,  2.,  2.,  3.],\n",
              "       [53.,  1.,  0., ...,  0.,  0.,  3.],\n",
              "       [70.,  1.,  0., ...,  0.,  0.,  3.],\n",
              "       ...,\n",
              "       [47.,  1.,  0., ...,  1.,  1.,  2.],\n",
              "       [50.,  0.,  0., ...,  2.,  0.,  2.],\n",
              "       [54.,  1.,  0., ...,  1.,  1.,  3.]])"
            ]
          },
          "metadata": {},
          "execution_count": 6
        }
      ]
    },
    {
      "cell_type": "code",
      "source": [
        "# Display the target variable array (Y) to inspect its structure and ensure it was correctly processed\n",
        "Y\n"
      ],
      "metadata": {
        "colab": {
          "base_uri": "https://localhost:8080/"
        },
        "id": "U9o1mgre-fXA",
        "outputId": "23dfbd4e-5d9d-4982-f5d6-af30d53d5148"
      },
      "execution_count": 7,
      "outputs": [
        {
          "output_type": "execute_result",
          "data": {
            "text/plain": [
              "array([0, 0, 0, ..., 0, 1, 0])"
            ]
          },
          "metadata": {},
          "execution_count": 7
        }
      ]
    },
    {
      "cell_type": "markdown",
      "source": [
        "Decision Tree Classifier with Different Hyperparameters"
      ],
      "metadata": {
        "id": "Hd7OVKsh_se7"
      }
    },
    {
      "cell_type": "code",
      "source": [
        "#Initialize and Fit Decision Tree Classifier (with entropy criterion and max depth of 6, random splitter)\n",
        "tree = DecisionTreeClassifier(criterion='entropy', max_depth=6, splitter=\"random\")\n",
        "tree.fit(X, Y)\n",
        "\n",
        "# Visualize the Decision Tree\n",
        "dot_data = StringIO()\n",
        "export_graphviz(tree, out_file=dot_data)\n",
        "graph = pydotplus.graph_from_dot_data(dot_data.getvalue())\n",
        "Image(graph.create_png(), width=700, height=350)\n",
        "\n",
        "# Predict and evaluate accuracy\n",
        "predict=tree.predict(X)\n",
        "predict\n",
        "print('accuracy is',metrics.accuracy_score(Y,predict))"
      ],
      "metadata": {
        "colab": {
          "base_uri": "https://localhost:8080/"
        },
        "id": "V5vMjh5d_tUw",
        "outputId": "79aac6d0-7161-460d-bb74-18b2eeaaa3b0"
      },
      "execution_count": 8,
      "outputs": [
        {
          "output_type": "stream",
          "name": "stdout",
          "text": [
            "accuracy is 0.904390243902439\n"
          ]
        }
      ]
    },
    {
      "cell_type": "code",
      "source": [
        "#Initialize and Fit Decision Tree Classifier (with entropy criterion and max depth of 6, best splitter)\n",
        "tree = DecisionTreeClassifier(criterion='entropy', max_depth=6, splitter='best')\n",
        "tree.fit(X, Y)\n",
        "\n",
        "# Visualize the Decision Tree\n",
        "dot_data = StringIO()\n",
        "export_graphviz(tree, out_file=dot_data)\n",
        "graph = pydotplus.graph_from_dot_data(dot_data.getvalue())\n",
        "Image(graph.create_png(), width=700, height=350)\n",
        "\n",
        "# Predict and evaluate accuracy\n",
        "predict = tree.predict(X)\n",
        "print('Accuracy is', metrics.accuracy_score(Y, predict))"
      ],
      "metadata": {
        "colab": {
          "base_uri": "https://localhost:8080/"
        },
        "id": "cJ-EvegVADwQ",
        "outputId": "0d58d816-ed0b-47d0-81ae-47672c3094a8"
      },
      "execution_count": 9,
      "outputs": [
        {
          "output_type": "stream",
          "name": "stdout",
          "text": [
            "Accuracy is 0.9609756097560975\n"
          ]
        }
      ]
    },
    {
      "cell_type": "code",
      "source": [
        "#Decision Tree with minimum samples to split as 2\n",
        "tree = DecisionTreeClassifier(criterion='entropy', max_depth=6, splitter='best', min_samples_split=2)\n",
        "tree.fit(X, Y)\n",
        "\n",
        "# Visualize the Decision Tree\n",
        "dot_data = StringIO()\n",
        "export_graphviz(tree, out_file=dot_data)\n",
        "graph = pydotplus.graph_from_dot_data(dot_data.getvalue())\n",
        "Image(graph.create_png(), width=700, height=350)\n",
        "\n",
        "# Predict and evaluate accuracy\n",
        "predict = tree.predict(X)\n",
        "print('Accuracy is', metrics.accuracy_score(Y, predict))"
      ],
      "metadata": {
        "colab": {
          "base_uri": "https://localhost:8080/"
        },
        "id": "21FztWAgAcRa",
        "outputId": "0050fef0-e758-4710-c048-4b6a5db41f61"
      },
      "execution_count": 10,
      "outputs": [
        {
          "output_type": "stream",
          "name": "stdout",
          "text": [
            "Accuracy is 0.9609756097560975\n"
          ]
        }
      ]
    },
    {
      "cell_type": "code",
      "source": [
        "#Decision Tree with max features as 'log2'\n",
        "tree = DecisionTreeClassifier(criterion='entropy', max_depth=8, splitter='best', min_samples_split=2, max_features='log2')\n",
        "tree.fit(X, Y)\n",
        "\n",
        "# Visualize the Decision Tree\n",
        "dot_data = StringIO()\n",
        "export_graphviz(tree, out_file=dot_data)\n",
        "graph = pydotplus.graph_from_dot_data(dot_data.getvalue())\n",
        "Image(graph.create_png(), width=700, height=350)\n",
        "\n",
        "# Predict and evaluate accuracy\n",
        "predict = tree.predict(X)\n",
        "print('Accuracy is', metrics.accuracy_score(Y, predict))"
      ],
      "metadata": {
        "colab": {
          "base_uri": "https://localhost:8080/"
        },
        "id": "wnvpb4IUAixw",
        "outputId": "1df48b5d-06a3-465a-e652-5f551cf82d09"
      },
      "execution_count": 11,
      "outputs": [
        {
          "output_type": "stream",
          "name": "stdout",
          "text": [
            "Accuracy is 0.9551219512195122\n"
          ]
        }
      ]
    },
    {
      "cell_type": "code",
      "source": [
        "#Decision Tree with max features as 'sqrt'\n",
        "tree = DecisionTreeClassifier(criterion='entropy', max_depth=8, splitter='best', min_samples_split=2, max_features='sqrt')\n",
        "tree.fit(X, Y)\n",
        "\n",
        "# Visualize the Decision Tree\n",
        "dot_data = StringIO()\n",
        "export_graphviz(tree, out_file=dot_data)\n",
        "graph = pydotplus.graph_from_dot_data(dot_data.getvalue())\n",
        "Image(graph.create_png(), width=700, height=350)\n",
        "\n",
        "# Predict and evaluate accuracy\n",
        "predict = tree.predict(X)\n",
        "print('Accuracy is', metrics.accuracy_score(Y, predict))\n"
      ],
      "metadata": {
        "colab": {
          "base_uri": "https://localhost:8080/"
        },
        "id": "PiYzZM2xAofQ",
        "outputId": "dacbea02-bd1f-408d-e0c6-28b369db9d98"
      },
      "execution_count": 12,
      "outputs": [
        {
          "output_type": "stream",
          "name": "stdout",
          "text": [
            "Accuracy is 0.9326829268292683\n"
          ]
        }
      ]
    },
    {
      "cell_type": "code",
      "source": [
        "#Decision Tree with different criterion ('gini') and other parameters\n",
        "tree = DecisionTreeClassifier(criterion='gini', max_depth=8, splitter='best', min_samples_split=3, min_samples_leaf=1)\n",
        "tree.fit(X, Y)\n",
        "\n",
        "# Visualize the Decision Tree\n",
        "dot_data = StringIO()\n",
        "export_graphviz(tree, out_file=dot_data)\n",
        "graph = pydotplus.graph_from_dot_data(dot_data.getvalue())\n",
        "Image(graph.create_png(), width=700, height=350)\n",
        "\n",
        "# Predict and evaluate accuracy\n",
        "predict = tree.predict(X)\n",
        "print('Accuracy is', metrics.accuracy_score(Y, predict))"
      ],
      "metadata": {
        "colab": {
          "base_uri": "https://localhost:8080/"
        },
        "id": "qPMKFb1qAwlA",
        "outputId": "3e6f8bf6-8b22-4594-9fd8-dccadef7a70c"
      },
      "execution_count": 13,
      "outputs": [
        {
          "output_type": "stream",
          "name": "stdout",
          "text": [
            "Accuracy is 0.9921951219512195\n"
          ]
        }
      ]
    },
    {
      "cell_type": "code",
      "source": [
        "#Decision Tree with class weights as 'balanced' to handle class imbalance\n",
        "tree = DecisionTreeClassifier(criterion='entropy', max_depth=8, splitter='best', min_samples_split=2, random_state=30, class_weight='balanced')\n",
        "tree.fit(X, Y)\n",
        "\n",
        "# Visualize the Decision Tree\n",
        "dot_data = StringIO()\n",
        "export_graphviz(tree, out_file=dot_data)\n",
        "graph = pydotplus.graph_from_dot_data(dot_data.getvalue())\n",
        "Image(graph.create_png(), width=700, height=350)\n",
        "\n",
        "# Predict and evaluate accuracy\n",
        "predict = tree.predict(X)\n",
        "print('Accuracy is', metrics.accuracy_score(Y, predict))"
      ],
      "metadata": {
        "colab": {
          "base_uri": "https://localhost:8080/"
        },
        "id": "r1yfVpdhA144",
        "outputId": "4ef3b1dc-f579-4b8d-eb00-b1d2946ea830"
      },
      "execution_count": 14,
      "outputs": [
        {
          "output_type": "stream",
          "name": "stdout",
          "text": [
            "Accuracy is 0.9960975609756098\n"
          ]
        }
      ]
    },
    {
      "cell_type": "markdown",
      "source": [
        "Splitting Data into Training and Testing Datasets"
      ],
      "metadata": {
        "id": "TYMw5GtIBK5u"
      }
    },
    {
      "cell_type": "code",
      "source": [
        "# Import necessary libraries\n",
        "from sklearn.model_selection import train_test_split  # Ensure this line is included\n",
        "from sklearn.neighbors import KNeighborsClassifier\n",
        "from sklearn import metrics\n",
        "\n",
        "# Main Heading: Splitting Data into Training and Testing Datasets\n",
        "# This section splits the dataset into training and testing datasets, with 10% data for testing.\n",
        "\n",
        "# Define target variable and features\n",
        "y = df['target'].to_numpy()  # Target variable (Heart Disease outcome)\n",
        "x = df.iloc[:, 0:13].to_numpy()  # Features (Heart Disease related attributes)\n",
        "\n",
        "# Print the target variable\n",
        "print(y)\n",
        "\n",
        "# Split the data into training (90%) and testing (10%) datasets\n",
        "xtrain, xtest, ytrain, ytest = train_test_split(x, y, test_size=0.1)\n",
        "\n",
        "# Main Heading: Implementing K-Nearest Neighbors (KNN) for Heart Disease Prediction\n",
        "# This section applies the KNN algorithm for heart disease prediction and evaluates accuracy for different k values.\n",
        "\n",
        "clusters = []  # List to store different values of k (number of neighbors)\n",
        "accuracy = []  # List to store accuracy scores for different k values\n",
        "\n",
        "# Loop through different k values (from 1 to 9) to evaluate the performance of KNN\n",
        "for i in range(1, 10):\n",
        "    knnmodel = KNeighborsClassifier(n_neighbors=i)  # Initialize KNN model with current k value\n",
        "    knnmodel.fit(xtrain, ytrain)  # Fit the model on the training data\n",
        "    ypred = knnmodel.predict(xtest)  # Predict the heart disease outcome on the test data\n",
        "    clusters.append(i)  # Append current k value to clusters list\n",
        "    accuracy.append(metrics.accuracy_score(ytest, ypred))  # Append accuracy score to accuracy list\n",
        "\n",
        "# Print the clusters (k values) and corresponding accuracy scores\n",
        "print(clusters)\n",
        "print(accuracy)\n"
      ],
      "metadata": {
        "colab": {
          "base_uri": "https://localhost:8080/"
        },
        "id": "IaA7LLKeBLxP",
        "outputId": "72bc7fbf-4be3-442b-ebfb-ca425c11f346"
      },
      "execution_count": 15,
      "outputs": [
        {
          "output_type": "stream",
          "name": "stdout",
          "text": [
            "[0 0 0 ... 0 1 0]\n",
            "[1, 2, 3, 4, 5, 6, 7, 8, 9]\n",
            "[1.0, 1.0, 1.0, 0.8932038834951457, 0.8155339805825242, 0.7766990291262136, 0.7475728155339806, 0.7475728155339806, 0.7475728155339806]\n"
          ]
        }
      ]
    },
    {
      "cell_type": "markdown",
      "source": [
        "Data Preparation for Heart Disease Prediction"
      ],
      "metadata": {
        "id": "h1Rc1lfvCRg6"
      }
    },
    {
      "cell_type": "code",
      "source": [
        "xtrain,xtest,ytrain,ytest=train_test_split(X,Y,test_size=0.09,random_state=1)\n",
        "print(xtrain.shape)\n",
        "print(ytrain.shape)"
      ],
      "metadata": {
        "colab": {
          "base_uri": "https://localhost:8080/"
        },
        "id": "AQLQuopPC5WY",
        "outputId": "885e67d1-9785-4760-811f-0ef3981b8270"
      },
      "execution_count": 16,
      "outputs": [
        {
          "output_type": "stream",
          "name": "stdout",
          "text": [
            "(932, 13)\n",
            "(932,)\n"
          ]
        }
      ]
    },
    {
      "cell_type": "code",
      "source": [
        "# Train the Categorical Naive Bayes (CNB) model\n",
        "cnb = CategoricalNB()\n",
        "cnb.fit(xtrain, ytrain)  # Fit the model on training data\n",
        "\n",
        "# Make predictions on the test data\n",
        "ypredict = cnb.predict(xtest)\n",
        "print(ypredict)  # Print the predicted values\n",
        "\n",
        "# Print the number of test samples\n",
        "print(xtest.shape[0])\n",
        "\n",
        "# Print the predicted and actual values for comparison\n",
        "print(ypredict)\n",
        "print(ytest)\n",
        "\n",
        "# Check how many predictions are incorrect\n",
        "count = np.all(ytest != ypredict)\n",
        "print(count)\n",
        "\n",
        "# Print the accuracy of the model\n",
        "print(\"accuracy score:\", metrics.accuracy_score(ytest, ypredict))\n",
        "\n",
        "# Print the confusion matrix to evaluate the model's performance\n",
        "print(\"confusion matrix:\\n\", metrics.confusion_matrix(ytest, ypredict))\n"
      ],
      "metadata": {
        "colab": {
          "base_uri": "https://localhost:8080/"
        },
        "id": "moyX0afrC_yo",
        "outputId": "aba53f43-9629-43b5-ca46-88718cd5d6ba"
      },
      "execution_count": 17,
      "outputs": [
        {
          "output_type": "stream",
          "name": "stdout",
          "text": [
            "[0 1 1 0 0 1 1 1 1 1 1 0 1 0 0 1 0 1 0 1 1 0 0 0 1 1 0 1 0 1 1 1 0 0 1 1 1\n",
            " 0 0 1 1 0 1 1 0 1 0 1 1 1 1 1 1 1 1 0 0 1 0 0 1 0 0 0 1 1 0 0 1 1 1 0 0 0\n",
            " 1 1 0 0 1 1 0 1 0 0 0 0 1 0 1 0 1 0 1]\n",
            "93\n",
            "[0 1 1 0 0 1 1 1 1 1 1 0 1 0 0 1 0 1 0 1 1 0 0 0 1 1 0 1 0 1 1 1 0 0 1 1 1\n",
            " 0 0 1 1 0 1 1 0 1 0 1 1 1 1 1 1 1 1 0 0 1 0 0 1 0 0 0 1 1 0 0 1 1 1 0 0 0\n",
            " 1 1 0 0 1 1 0 1 0 0 0 0 1 0 1 0 1 0 1]\n",
            "[0 1 1 0 0 1 1 1 0 1 0 0 1 0 0 1 0 1 0 1 1 0 0 0 0 1 0 1 0 1 1 1 0 0 0 1 1\n",
            " 0 0 1 1 0 1 0 0 1 0 1 1 1 1 1 1 1 1 1 0 1 0 0 1 0 0 0 1 0 0 0 1 1 1 0 0 0\n",
            " 1 1 0 0 1 0 0 1 0 0 0 0 1 0 1 0 1 0 1]\n",
            "False\n",
            "accuracy score: 0.9139784946236559\n",
            "confusion matrix:\n",
            " [[41  7]\n",
            " [ 1 44]]\n"
          ]
        }
      ]
    },
    {
      "cell_type": "code",
      "source": [
        "#Implementing XGBoost for Heart Disease Prediction\n",
        "\n",
        "# Import necessary libraries\n",
        "from numpy import loadtxt\n",
        "from xgboost import XGBClassifier\n",
        "from sklearn.model_selection import train_test_split\n",
        "from sklearn.metrics import accuracy_score\n",
        "\n",
        "# Set random seed and test size for train-test split\n",
        "seed = 5\n",
        "test_size = 0.1\n",
        "\n",
        "# Split the dataset into training and testing sets\n",
        "X_train, X_test, y_train, y_test = train_test_split(X, Y, test_size=test_size, random_state=seed)\n",
        "\n",
        "# Initialize the XGBoost model with specified parameters\n",
        "model = XGBClassifier(max_depth=6, gamma=7, n_estimators=500, subsample=0.5, colsample_bytree=0.6, nthread=2, learning_rate=0.8, eval_metric='merror', objective='binary:logistic')\n",
        "\n",
        "# Train the model on the training data\n",
        "model.fit(X_train, y_train)\n",
        "\n",
        "# Make predictions on the test data\n",
        "y_pred = model.predict(X_test)\n",
        "\n",
        "# Round the predictions to 0 or 1 (binary outcomes)\n",
        "predictions = [round(value) for value in y_pred]\n",
        "\n",
        "# Calculate and print the accuracy of the model\n",
        "accuracy = accuracy_score(y_test, predictions)\n",
        "print(\"Accuracy: %.2f%%\" % (accuracy * 100.0))\n"
      ],
      "metadata": {
        "colab": {
          "base_uri": "https://localhost:8080/"
        },
        "id": "i9kzlXN7DgdQ",
        "outputId": "755bec35-2b7b-4b0b-ecb2-0c02545bb82b"
      },
      "execution_count": 18,
      "outputs": [
        {
          "output_type": "stream",
          "name": "stdout",
          "text": [
            "Accuracy: 94.17%\n"
          ]
        }
      ]
    },
    {
      "cell_type": "code",
      "source": [
        "#Heart Disease Prediction Using XGBoost\n",
        "\n",
        "# Define random seed and test size for train-test splitting\n",
        "seed = 5\n",
        "test_size = 0.1\n",
        "\n",
        "# Split the data into training and testing sets\n",
        "X_train, X_test, y_train, y_test = train_test_split(X, Y, test_size=test_size, random_state=seed)\n",
        "\n",
        "# Initialize the XGBoost model with custom parameters\n",
        "model = XGBClassifier(\n",
        "    max_depth=11,       # Maximum depth of the trees\n",
        "    gamma=11,           # Minimum loss reduction for a split\n",
        "    n_estimators=1000,  # Number of trees in the ensemble\n",
        "    subsample=0.9,      # Fraction of samples for each tree\n",
        "    nthread=2,          # Number of threads to use\n",
        "    learning_rate=0.8,  # Step size shrinkage\n",
        "    eval_metric='mlogloss',  # Metric to evaluate during training\n",
        "    objective='binary:logistic'  # Binary classification objective\n",
        ")\n",
        "\n",
        "# Train the XGBoost model using the training data\n",
        "model.fit(X_train, y_train)\n",
        "\n",
        "# Make predictions using the test data\n",
        "y_pred = model.predict(X_test)\n",
        "\n",
        "# Convert predictions to a list for easier analysis\n",
        "predictions = [value for value in y_pred]\n",
        "\n",
        "# Calculate and print the accuracy of the predictions\n",
        "accuracy = accuracy_score(y_test, predictions)\n",
        "print(\"Accuracy: %.2f%%\" % (accuracy * 100.0))\n"
      ],
      "metadata": {
        "colab": {
          "base_uri": "https://localhost:8080/"
        },
        "id": "IesMukZXD69Y",
        "outputId": "5f8be735-07aa-46a1-cde2-937c9c4dda93"
      },
      "execution_count": 19,
      "outputs": [
        {
          "output_type": "stream",
          "name": "stdout",
          "text": [
            "Accuracy: 91.26%\n"
          ]
        }
      ]
    },
    {
      "cell_type": "code",
      "source": [
        "#Heart Disease Prediction Using XGBoost (Optimized Parameters)\n",
        "\n",
        "# Define test size for splitting the data\n",
        "test_size = 0.1\n",
        "\n",
        "# Split data into training and testing sets (10% for testing, random state for reproducibility)\n",
        "X_train, X_test, y_train, y_test = train_test_split(X, Y, test_size=test_size, random_state=34)\n",
        "\n",
        "# Initialize the XGBoost classifier with tuned parameters\n",
        "model = XGBClassifier(\n",
        "    learning_rate=0.3,          # Step size shrinkage\n",
        "    n_estimators=100,           # Number of trees in the ensemble\n",
        "    objective='binary:logistic',# Binary classification objective\n",
        "    booster='gbtree',           # Use gradient-boosted trees\n",
        "    min_child_weight=1,         # Minimum sum of weights for child nodes\n",
        "    max_depth=6,                # Maximum tree depth\n",
        "    gamma=0,                    # Minimum loss reduction for splits\n",
        "    subsample=1,                # Fraction of samples for training each tree\n",
        "    colsample_bytree=1,         # Fraction of features for each tree\n",
        "    reg_lambda=1,               # L2 regularization term\n",
        "    reg_alpha=0,                # L1 regularization term\n",
        "    eval_metric='rmse'          # Metric for evaluation\n",
        ")\n",
        "\n",
        "# Train the model on the training dataset\n",
        "model.fit(X_train, y_train)\n",
        "\n",
        "# Predict the outcomes for the test dataset\n",
        "y_pred = model.predict(X_test)\n",
        "\n",
        "# Convert predictions to rounded values (binary output)\n",
        "predictions = [round(value) for value in y_pred]\n",
        "\n",
        "# Calculate and print the accuracy of the model\n",
        "accuracy = accuracy_score(y_test, predictions)\n",
        "print(accuracy)  # Print accuracy as a decimal\n",
        "print(\"Accuracy: %.2f%%\" % (accuracy * 100.0))  # Print accuracy as a percentage\n"
      ],
      "metadata": {
        "colab": {
          "base_uri": "https://localhost:8080/"
        },
        "id": "7X6czo3oEThA",
        "outputId": "73ad28b1-9cbb-4e46-b6bd-aaece7874f8f"
      },
      "execution_count": 20,
      "outputs": [
        {
          "output_type": "stream",
          "name": "stdout",
          "text": [
            "1.0\n",
            "Accuracy: 100.00%\n"
          ]
        }
      ]
    },
    {
      "cell_type": "markdown",
      "source": [
        "Logistic Regression Model for Heart Disease Prediction"
      ],
      "metadata": {
        "id": "_wtJf10mE_hq"
      }
    },
    {
      "cell_type": "code",
      "source": [
        "#Logistic Regression Model for Heart Disease Prediction\n",
        "\n",
        "# Importing the Logistic Regression model\n",
        "regress = linear_model.LogisticRegression()\n",
        "\n",
        "# Convert the dataset to a NumPy array for processing\n",
        "df1 = df.values\n",
        "print(df1)  # Display the dataset as a NumPy array\n",
        "\n",
        "# Separate features (xtrain) and target labels (ytrain)\n",
        "xtrain = df1[:, :13]  # Extract the first 13 columns as features\n",
        "xtrain = xtrain.astype('int')  # Ensure features are integers\n",
        "ytrain = df1[:, 13]  # Extract the 14th column as target\n",
        "ytrain = ytrain.astype('int')  # Ensure target labels are integers\n",
        "\n",
        "# Print the shapes of features and target arrays\n",
        "print(xtrain.shape)  # Shape of the features array\n",
        "print(ytrain.shape)  # Shape of the target array\n",
        "\n",
        "# Normalize the features using MinMaxScaler\n",
        "from sklearn.preprocessing import MinMaxScaler\n",
        "xtrain = MinMaxScaler().fit_transform(xtrain)\n",
        "print(xtrain)  # Display the normalized features\n",
        "\n",
        "# Train the Logistic Regression model on the dataset\n",
        "regress.fit(xtrain, ytrain)\n",
        "\n",
        "# Print the coefficients and intercept of the logistic regression model\n",
        "print(\"coeff:\", regress.coef_)  # Coefficients for each feature\n",
        "print(\"intercepts:\", regress.intercept_)  # Model intercept\n",
        "\n",
        "# Predict outcomes using the trained model\n",
        "ypredicted = regress.predict(xtrain)\n",
        "\n",
        "# Compare the predicted and actual target values\n",
        "for i in range(0, len(xtrain)):\n",
        "    print(ytrain[i], ypredicted[i])\n",
        "\n",
        "# Evaluate the model's performance using metrics\n",
        "from sklearn import metrics\n",
        "print(\"accuracy:\", metrics.accuracy_score(ytrain, ypredicted))  # Calculate accuracy\n",
        "print(\"confusion-matrix:\\n\", metrics.confusion_matrix(ytrain, ypredicted))  # Confusion matrix\n"
      ],
      "metadata": {
        "colab": {
          "base_uri": "https://localhost:8080/"
        },
        "id": "M8JKJSFlFAkf",
        "outputId": "426927f1-14d5-4af9-a21f-a602cab25705"
      },
      "execution_count": 21,
      "outputs": [
        {
          "output_type": "stream",
          "name": "stdout",
          "text": [
            "[[52.  1.  0. ...  2.  3.  0.]\n",
            " [53.  1.  0. ...  0.  3.  0.]\n",
            " [70.  1.  0. ...  0.  3.  0.]\n",
            " ...\n",
            " [47.  1.  0. ...  1.  2.  0.]\n",
            " [50.  0.  0. ...  0.  2.  1.]\n",
            " [54.  1.  0. ...  1.  3.  0.]]\n",
            "(1025, 13)\n",
            "(1025,)\n",
            "[[0.47916667 1.         0.         ... 1.         0.5        1.        ]\n",
            " [0.5        1.         0.         ... 0.         0.         1.        ]\n",
            " [0.85416667 1.         0.         ... 0.         0.         1.        ]\n",
            " ...\n",
            " [0.375      1.         0.         ... 0.5        0.25       0.66666667]\n",
            " [0.4375     0.         0.         ... 1.         0.         0.66666667]\n",
            " [0.52083333 1.         0.         ... 0.5        0.25       1.        ]]\n",
            "coeff: [[-7.33108961e-01 -1.60075660e+00  2.15978613e+00 -1.31783868e+00\n",
            "  -1.38651736e+00 -2.45262974e-03  7.36055738e-01  2.14410796e+00\n",
            "  -1.04867892e+00 -2.55388448e+00  1.22591583e+00 -2.55815651e+00\n",
            "  -2.15714028e+00]]\n",
            "intercepts: [2.12851932]\n",
            "0 0\n",
            "0 0\n",
            "0 0\n",
            "0 0\n",
            "0 0\n",
            "1 1\n",
            "0 0\n",
            "0 0\n",
            "0 0\n",
            "0 0\n",
            "1 1\n",
            "0 0\n",
            "1 1\n",
            "0 0\n",
            "0 1\n",
            "1 1\n",
            "1 1\n",
            "0 0\n",
            "1 1\n",
            "1 1\n",
            "0 1\n",
            "1 1\n",
            "1 0\n",
            "1 1\n",
            "1 1\n",
            "0 0\n",
            "1 1\n",
            "0 1\n",
            "0 1\n",
            "0 0\n",
            "0 0\n",
            "1 1\n",
            "0 0\n",
            "0 0\n",
            "1 1\n",
            "0 1\n",
            "1 1\n",
            "1 1\n",
            "1 0\n",
            "0 0\n",
            "1 1\n",
            "1 1\n",
            "0 1\n",
            "0 0\n",
            "1 1\n",
            "1 1\n",
            "1 1\n",
            "0 0\n",
            "1 1\n",
            "0 0\n",
            "1 1\n",
            "0 0\n",
            "1 1\n",
            "0 0\n",
            "0 0\n",
            "0 0\n",
            "1 1\n",
            "1 1\n",
            "0 1\n",
            "0 1\n",
            "1 1\n",
            "1 1\n",
            "0 0\n",
            "1 1\n",
            "1 1\n",
            "0 1\n",
            "1 1\n",
            "0 0\n",
            "1 1\n",
            "0 0\n",
            "0 0\n",
            "0 0\n",
            "0 0\n",
            "0 0\n",
            "0 0\n",
            "1 1\n",
            "1 1\n",
            "0 0\n",
            "1 1\n",
            "1 1\n",
            "0 1\n",
            "0 1\n",
            "0 1\n",
            "1 1\n",
            "1 1\n",
            "1 1\n",
            "1 1\n",
            "0 0\n",
            "0 0\n",
            "0 0\n",
            "1 1\n",
            "1 1\n",
            "0 0\n",
            "0 0\n",
            "1 1\n",
            "1 1\n",
            "1 1\n",
            "0 0\n",
            "0 1\n",
            "1 1\n",
            "1 1\n",
            "1 1\n",
            "1 1\n",
            "1 1\n",
            "1 1\n",
            "0 0\n",
            "0 0\n",
            "0 0\n",
            "0 1\n",
            "0 0\n",
            "0 1\n",
            "1 0\n",
            "0 0\n",
            "0 0\n",
            "0 1\n",
            "0 0\n",
            "0 0\n",
            "0 0\n",
            "1 1\n",
            "1 1\n",
            "1 1\n",
            "0 0\n",
            "0 0\n",
            "1 1\n",
            "0 0\n",
            "1 1\n",
            "1 0\n",
            "1 1\n",
            "1 0\n",
            "1 1\n",
            "1 1\n",
            "1 1\n",
            "1 1\n",
            "1 1\n",
            "1 1\n",
            "0 0\n",
            "1 1\n",
            "1 1\n",
            "1 1\n",
            "1 1\n",
            "0 0\n",
            "0 1\n",
            "0 0\n",
            "1 1\n",
            "1 1\n",
            "0 0\n",
            "1 1\n",
            "0 1\n",
            "1 1\n",
            "1 1\n",
            "0 0\n",
            "0 0\n",
            "0 0\n",
            "1 1\n",
            "0 0\n",
            "1 1\n",
            "1 1\n",
            "1 1\n",
            "1 1\n",
            "1 1\n",
            "0 0\n",
            "1 1\n",
            "0 0\n",
            "0 0\n",
            "0 0\n",
            "0 0\n",
            "0 0\n",
            "1 1\n",
            "1 1\n",
            "1 1\n",
            "1 1\n",
            "0 0\n",
            "1 1\n",
            "1 1\n",
            "0 0\n",
            "0 0\n",
            "0 0\n",
            "0 0\n",
            "0 1\n",
            "0 0\n",
            "0 0\n",
            "1 1\n",
            "0 0\n",
            "1 1\n",
            "1 1\n",
            "0 0\n",
            "0 0\n",
            "0 0\n",
            "0 0\n",
            "0 0\n",
            "1 1\n",
            "1 1\n",
            "1 1\n",
            "1 1\n",
            "0 0\n",
            "1 1\n",
            "0 0\n",
            "1 1\n",
            "1 1\n",
            "0 0\n",
            "1 1\n",
            "1 1\n",
            "1 1\n",
            "1 1\n",
            "1 1\n",
            "1 1\n",
            "0 1\n",
            "1 1\n",
            "1 1\n",
            "0 0\n",
            "1 1\n",
            "0 0\n",
            "0 0\n",
            "1 1\n",
            "1 1\n",
            "1 1\n",
            "0 0\n",
            "1 1\n",
            "0 0\n",
            "0 0\n",
            "0 1\n",
            "0 0\n",
            "1 1\n",
            "1 1\n",
            "1 0\n",
            "1 1\n",
            "0 1\n",
            "1 1\n",
            "1 1\n",
            "0 0\n",
            "0 0\n",
            "1 1\n",
            "0 0\n",
            "1 1\n",
            "1 1\n",
            "1 1\n",
            "0 1\n",
            "0 1\n",
            "0 0\n",
            "0 0\n",
            "1 1\n",
            "0 1\n",
            "1 1\n",
            "0 1\n",
            "1 1\n",
            "1 1\n",
            "0 0\n",
            "0 0\n",
            "1 1\n",
            "1 1\n",
            "0 0\n",
            "1 1\n",
            "0 0\n",
            "0 0\n",
            "0 0\n",
            "1 1\n",
            "1 1\n",
            "1 1\n",
            "0 1\n",
            "1 0\n",
            "1 1\n",
            "1 1\n",
            "1 1\n",
            "1 1\n",
            "0 0\n",
            "1 0\n",
            "0 0\n",
            "0 0\n",
            "0 0\n",
            "1 1\n",
            "1 1\n",
            "1 1\n",
            "1 1\n",
            "0 0\n",
            "1 0\n",
            "0 0\n",
            "1 0\n",
            "1 1\n",
            "0 0\n",
            "1 1\n",
            "1 1\n",
            "1 1\n",
            "1 1\n",
            "1 1\n",
            "0 0\n",
            "1 1\n",
            "1 1\n",
            "1 1\n",
            "1 1\n",
            "0 1\n",
            "1 0\n",
            "0 0\n",
            "1 0\n",
            "1 1\n",
            "0 0\n",
            "0 0\n",
            "0 0\n",
            "0 0\n",
            "1 1\n",
            "1 1\n",
            "1 1\n",
            "1 1\n",
            "1 1\n",
            "0 0\n",
            "1 1\n",
            "0 0\n",
            "1 1\n",
            "1 1\n",
            "0 1\n",
            "1 1\n",
            "0 0\n",
            "0 0\n",
            "0 0\n",
            "1 1\n",
            "1 1\n",
            "1 1\n",
            "1 1\n",
            "1 1\n",
            "0 0\n",
            "1 1\n",
            "1 1\n",
            "1 1\n",
            "0 0\n",
            "0 0\n",
            "1 1\n",
            "1 1\n",
            "0 0\n",
            "0 0\n",
            "0 0\n",
            "1 1\n",
            "1 1\n",
            "0 0\n",
            "1 1\n",
            "1 1\n",
            "0 0\n",
            "0 0\n",
            "1 1\n",
            "1 0\n",
            "0 1\n",
            "0 0\n",
            "1 1\n",
            "1 1\n",
            "1 1\n",
            "1 1\n",
            "1 1\n",
            "0 0\n",
            "0 0\n",
            "1 1\n",
            "0 0\n",
            "0 1\n",
            "1 0\n",
            "0 0\n",
            "0 0\n",
            "1 0\n",
            "0 1\n",
            "1 1\n",
            "0 0\n",
            "0 0\n",
            "0 1\n",
            "1 1\n",
            "1 1\n",
            "1 0\n",
            "1 1\n",
            "1 1\n",
            "0 1\n",
            "1 1\n",
            "0 0\n",
            "0 0\n",
            "1 0\n",
            "1 1\n",
            "0 0\n",
            "0 0\n",
            "1 1\n",
            "0 1\n",
            "1 1\n",
            "1 0\n",
            "1 1\n",
            "1 0\n",
            "0 0\n",
            "1 1\n",
            "0 0\n",
            "0 0\n",
            "0 0\n",
            "0 0\n",
            "0 0\n",
            "1 1\n",
            "1 1\n",
            "0 0\n",
            "0 0\n",
            "1 1\n",
            "0 1\n",
            "0 1\n",
            "1 1\n",
            "0 0\n",
            "0 0\n",
            "1 1\n",
            "0 0\n",
            "0 0\n",
            "1 0\n",
            "1 1\n",
            "0 0\n",
            "1 1\n",
            "1 1\n",
            "1 1\n",
            "0 0\n",
            "0 1\n",
            "1 1\n",
            "0 0\n",
            "1 1\n",
            "0 1\n",
            "1 1\n",
            "0 0\n",
            "0 0\n",
            "0 0\n",
            "0 1\n",
            "1 1\n",
            "1 0\n",
            "1 0\n",
            "1 1\n",
            "1 1\n",
            "1 1\n",
            "1 1\n",
            "1 1\n",
            "0 1\n",
            "0 0\n",
            "0 0\n",
            "1 1\n",
            "1 1\n",
            "0 0\n",
            "0 1\n",
            "0 1\n",
            "0 0\n",
            "1 1\n",
            "1 1\n",
            "1 1\n",
            "1 1\n",
            "0 0\n",
            "0 0\n",
            "1 1\n",
            "0 1\n",
            "0 0\n",
            "0 0\n",
            "0 0\n",
            "1 1\n",
            "1 1\n",
            "1 1\n",
            "1 1\n",
            "0 0\n",
            "1 1\n",
            "0 1\n",
            "0 0\n",
            "1 1\n",
            "0 0\n",
            "1 1\n",
            "0 0\n",
            "1 1\n",
            "0 1\n",
            "1 1\n",
            "1 1\n",
            "1 0\n",
            "0 0\n",
            "1 1\n",
            "1 1\n",
            "1 1\n",
            "1 1\n",
            "1 1\n",
            "1 1\n",
            "0 0\n",
            "1 0\n",
            "0 0\n",
            "1 1\n",
            "1 1\n",
            "1 1\n",
            "1 1\n",
            "0 0\n",
            "1 1\n",
            "0 0\n",
            "0 0\n",
            "1 1\n",
            "0 0\n",
            "0 0\n",
            "0 0\n",
            "0 0\n",
            "1 1\n",
            "0 1\n",
            "0 0\n",
            "0 1\n",
            "0 0\n",
            "1 1\n",
            "1 0\n",
            "1 1\n",
            "1 1\n",
            "0 0\n",
            "0 0\n",
            "1 1\n",
            "1 0\n",
            "0 0\n",
            "0 1\n",
            "1 1\n",
            "1 1\n",
            "1 1\n",
            "1 1\n",
            "1 1\n",
            "1 1\n",
            "0 1\n",
            "1 1\n",
            "0 0\n",
            "1 1\n",
            "0 0\n",
            "0 0\n",
            "1 1\n",
            "0 0\n",
            "0 1\n",
            "0 0\n",
            "1 1\n",
            "0 0\n",
            "0 0\n",
            "1 1\n",
            "0 0\n",
            "0 0\n",
            "0 0\n",
            "1 0\n",
            "1 1\n",
            "0 0\n",
            "0 0\n",
            "1 1\n",
            "0 0\n",
            "1 1\n",
            "1 0\n",
            "1 1\n",
            "0 0\n",
            "1 1\n",
            "0 1\n",
            "1 1\n",
            "1 1\n",
            "1 1\n",
            "1 1\n",
            "1 1\n",
            "0 0\n",
            "1 1\n",
            "0 0\n",
            "1 1\n",
            "1 1\n",
            "0 1\n",
            "1 0\n",
            "0 0\n",
            "0 0\n",
            "1 1\n",
            "1 1\n",
            "1 1\n",
            "0 0\n",
            "0 0\n",
            "0 0\n",
            "1 1\n",
            "0 0\n",
            "0 0\n",
            "0 0\n",
            "1 1\n",
            "1 1\n",
            "0 0\n",
            "1 1\n",
            "1 1\n",
            "1 1\n",
            "0 1\n",
            "0 0\n",
            "1 1\n",
            "1 1\n",
            "1 1\n",
            "1 1\n",
            "1 1\n",
            "1 1\n",
            "0 0\n",
            "1 1\n",
            "0 1\n",
            "0 0\n",
            "1 1\n",
            "1 1\n",
            "0 0\n",
            "1 1\n",
            "0 0\n",
            "1 1\n",
            "1 1\n",
            "1 1\n",
            "0 0\n",
            "0 0\n",
            "1 1\n",
            "0 0\n",
            "0 0\n",
            "0 0\n",
            "0 0\n",
            "1 1\n",
            "0 0\n",
            "0 0\n",
            "0 0\n",
            "0 0\n",
            "0 0\n",
            "1 1\n",
            "1 1\n",
            "0 1\n",
            "1 1\n",
            "0 1\n",
            "0 0\n",
            "1 1\n",
            "1 1\n",
            "1 1\n",
            "1 1\n",
            "0 0\n",
            "0 0\n",
            "0 0\n",
            "0 0\n",
            "0 0\n",
            "0 0\n",
            "0 0\n",
            "0 0\n",
            "0 0\n",
            "1 1\n",
            "1 1\n",
            "1 1\n",
            "1 1\n",
            "0 1\n",
            "0 0\n",
            "0 0\n",
            "0 0\n",
            "0 0\n",
            "1 0\n",
            "0 0\n",
            "0 0\n",
            "0 1\n",
            "1 1\n",
            "0 1\n",
            "0 1\n",
            "1 1\n",
            "1 1\n",
            "0 0\n",
            "0 0\n",
            "1 1\n",
            "0 0\n",
            "1 1\n",
            "0 1\n",
            "1 1\n",
            "1 1\n",
            "0 0\n",
            "1 0\n",
            "1 1\n",
            "1 1\n",
            "0 0\n",
            "0 1\n",
            "1 0\n",
            "1 1\n",
            "1 1\n",
            "0 0\n",
            "1 1\n",
            "1 1\n",
            "0 0\n",
            "1 1\n",
            "1 1\n",
            "0 1\n",
            "1 1\n",
            "0 0\n",
            "1 1\n",
            "0 0\n",
            "0 0\n",
            "1 1\n",
            "1 1\n",
            "1 1\n",
            "1 1\n",
            "1 1\n",
            "0 1\n",
            "1 1\n",
            "0 0\n",
            "0 1\n",
            "0 0\n",
            "1 1\n",
            "1 1\n",
            "0 0\n",
            "0 0\n",
            "0 0\n",
            "0 0\n",
            "1 1\n",
            "0 0\n",
            "1 1\n",
            "0 0\n",
            "0 0\n",
            "0 0\n",
            "0 1\n",
            "0 0\n",
            "0 1\n",
            "0 0\n",
            "0 0\n",
            "1 1\n",
            "1 0\n",
            "1 1\n",
            "0 0\n",
            "1 1\n",
            "0 0\n",
            "0 0\n",
            "1 1\n",
            "0 1\n",
            "0 0\n",
            "0 0\n",
            "1 1\n",
            "0 0\n",
            "1 1\n",
            "1 0\n",
            "1 1\n",
            "0 0\n",
            "0 0\n",
            "1 1\n",
            "1 1\n",
            "0 1\n",
            "1 1\n",
            "0 0\n",
            "1 1\n",
            "1 1\n",
            "1 1\n",
            "1 1\n",
            "0 0\n",
            "0 1\n",
            "1 1\n",
            "1 0\n",
            "0 1\n",
            "1 1\n",
            "1 1\n",
            "1 1\n",
            "1 1\n",
            "0 0\n",
            "0 0\n",
            "1 1\n",
            "0 0\n",
            "1 1\n",
            "1 1\n",
            "0 1\n",
            "1 1\n",
            "1 1\n",
            "0 1\n",
            "1 1\n",
            "0 0\n",
            "0 0\n",
            "0 0\n",
            "0 0\n",
            "1 1\n",
            "1 1\n",
            "0 0\n",
            "1 0\n",
            "1 1\n",
            "1 1\n",
            "0 1\n",
            "0 0\n",
            "1 1\n",
            "1 0\n",
            "1 1\n",
            "1 1\n",
            "1 1\n",
            "1 1\n",
            "1 1\n",
            "1 1\n",
            "0 0\n",
            "1 0\n",
            "1 1\n",
            "0 1\n",
            "0 0\n",
            "1 1\n",
            "1 1\n",
            "1 1\n",
            "0 0\n",
            "0 0\n",
            "0 0\n",
            "0 0\n",
            "1 1\n",
            "1 1\n",
            "1 1\n",
            "1 1\n",
            "0 0\n",
            "0 0\n",
            "1 1\n",
            "1 1\n",
            "0 0\n",
            "0 0\n",
            "0 1\n",
            "1 1\n",
            "0 0\n",
            "0 0\n",
            "1 0\n",
            "1 1\n",
            "1 1\n",
            "0 0\n",
            "0 0\n",
            "0 0\n",
            "0 0\n",
            "0 0\n",
            "0 0\n",
            "0 0\n",
            "0 0\n",
            "1 1\n",
            "0 0\n",
            "1 1\n",
            "1 1\n",
            "0 0\n",
            "0 1\n",
            "1 1\n",
            "0 0\n",
            "1 1\n",
            "0 1\n",
            "0 1\n",
            "1 1\n",
            "1 0\n",
            "0 0\n",
            "1 1\n",
            "1 1\n",
            "1 1\n",
            "0 0\n",
            "0 1\n",
            "0 0\n",
            "0 0\n",
            "1 1\n",
            "1 0\n",
            "1 1\n",
            "1 1\n",
            "1 1\n",
            "0 0\n",
            "0 0\n",
            "0 0\n",
            "0 0\n",
            "1 1\n",
            "0 0\n",
            "1 1\n",
            "1 1\n",
            "0 0\n",
            "1 1\n",
            "0 0\n",
            "1 1\n",
            "1 0\n",
            "1 1\n",
            "0 0\n",
            "0 0\n",
            "0 1\n",
            "1 1\n",
            "1 1\n",
            "1 1\n",
            "1 0\n",
            "0 0\n",
            "1 1\n",
            "0 0\n",
            "0 1\n",
            "0 0\n",
            "0 0\n",
            "1 1\n",
            "0 0\n",
            "1 1\n",
            "0 0\n",
            "0 1\n",
            "1 1\n",
            "0 0\n",
            "0 0\n",
            "0 1\n",
            "1 1\n",
            "1 1\n",
            "1 1\n",
            "1 1\n",
            "0 0\n",
            "0 1\n",
            "0 1\n",
            "0 1\n",
            "0 0\n",
            "0 1\n",
            "1 1\n",
            "1 1\n",
            "1 1\n",
            "1 1\n",
            "1 1\n",
            "1 1\n",
            "1 1\n",
            "1 1\n",
            "1 1\n",
            "0 1\n",
            "0 0\n",
            "0 0\n",
            "1 1\n",
            "0 0\n",
            "1 1\n",
            "1 0\n",
            "0 1\n",
            "0 0\n",
            "0 0\n",
            "0 0\n",
            "0 0\n",
            "0 0\n",
            "1 0\n",
            "0 0\n",
            "0 0\n",
            "0 0\n",
            "1 1\n",
            "0 0\n",
            "0 1\n",
            "0 0\n",
            "0 1\n",
            "1 0\n",
            "1 1\n",
            "1 1\n",
            "1 0\n",
            "0 0\n",
            "1 1\n",
            "0 0\n",
            "0 1\n",
            "1 1\n",
            "0 0\n",
            "1 1\n",
            "1 1\n",
            "0 0\n",
            "0 0\n",
            "0 1\n",
            "0 1\n",
            "0 0\n",
            "1 0\n",
            "0 0\n",
            "0 0\n",
            "0 0\n",
            "1 1\n",
            "0 1\n",
            "0 1\n",
            "0 0\n",
            "0 0\n",
            "1 1\n",
            "1 1\n",
            "0 1\n",
            "0 0\n",
            "0 0\n",
            "1 1\n",
            "0 0\n",
            "0 0\n",
            "0 0\n",
            "0 1\n",
            "1 1\n",
            "0 1\n",
            "1 1\n",
            "1 1\n",
            "1 1\n",
            "0 1\n",
            "1 0\n",
            "1 1\n",
            "0 0\n",
            "1 1\n",
            "1 1\n",
            "1 1\n",
            "0 0\n",
            "1 1\n",
            "1 1\n",
            "1 1\n",
            "0 0\n",
            "1 0\n",
            "0 0\n",
            "0 1\n",
            "1 1\n",
            "1 1\n",
            "1 1\n",
            "1 0\n",
            "1 1\n",
            "0 1\n",
            "1 1\n",
            "1 1\n",
            "1 1\n",
            "1 1\n",
            "1 0\n",
            "0 0\n",
            "1 1\n",
            "1 1\n",
            "0 0\n",
            "1 1\n",
            "0 0\n",
            "1 1\n",
            "1 1\n",
            "1 1\n",
            "1 1\n",
            "1 1\n",
            "1 1\n",
            "0 0\n",
            "0 0\n",
            "1 1\n",
            "0 1\n",
            "0 0\n",
            "1 1\n",
            "0 0\n",
            "1 1\n",
            "1 0\n",
            "1 0\n",
            "1 0\n",
            "0 0\n",
            "0 1\n",
            "0 0\n",
            "1 1\n",
            "1 1\n",
            "0 0\n",
            "1 1\n",
            "0 0\n",
            "0 0\n",
            "1 1\n",
            "0 0\n",
            "0 0\n",
            "0 0\n",
            "0 0\n",
            "0 0\n",
            "1 1\n",
            "0 0\n",
            "1 0\n",
            "1 1\n",
            "0 0\n",
            "1 1\n",
            "1 1\n",
            "1 1\n",
            "0 1\n",
            "0 0\n",
            "1 1\n",
            "0 0\n",
            "0 0\n",
            "1 1\n",
            "0 0\n",
            "0 1\n",
            "0 0\n",
            "0 1\n",
            "1 1\n",
            "1 1\n",
            "0 0\n",
            "0 0\n",
            "1 1\n",
            "0 0\n",
            "accuracy: 0.8390243902439024\n",
            "confusion-matrix:\n",
            " [[390 109]\n",
            " [ 56 470]]\n"
          ]
        }
      ]
    },
    {
      "cell_type": "markdown",
      "source": [
        "Support Vector Machine (SVM) for Heart Disease Prediction"
      ],
      "metadata": {
        "id": "ycMo_wChFxGt"
      }
    },
    {
      "cell_type": "code",
      "source": [
        "#Support Vector Machine (SVM) for Heart Disease Prediction\n",
        "\n",
        "# Splitting the dataset into training and testing sets\n",
        "from sklearn.model_selection import train_test_split\n",
        "training_set, test_set = train_test_split(df, test_size=0.9, random_state=42)  # Split the data with 90% for testing\n",
        "\n",
        "# Extract features and target values for training and testing\n",
        "X_train = training_set.iloc[:, 0:13].values  # Features for training\n",
        "Y_train = training_set.iloc[:, 13].values  # Target for training\n",
        "X_test = test_set.iloc[:, 0:13].values  # Features for testing\n",
        "Y_test = test_set.iloc[:, 13].values  # Target for testing\n",
        "\n",
        "# Import and configure the Support Vector Classifier (SVC)\n",
        "from sklearn.svm import SVC\n",
        "classifier = SVC(kernel='sigmoid', verbose=True, decision_function_shape='ovo')  # SVM with sigmoid kernel and 'one-vs-one' strategy\n",
        "\n",
        "# Train the SVM classifier on the training data\n",
        "classifier.fit(X_train, Y_train)\n",
        "\n",
        "# Predict the outcomes using the testing data\n",
        "Y_pred = classifier.predict(X_test)\n",
        "\n",
        "# Evaluate the performance using a confusion matrix and calculate accuracy\n",
        "from sklearn.metrics import confusion_matrix\n",
        "cm = confusion_matrix(Y_test, Y_pred)  # Compute the confusion matrix\n",
        "accuracy = float(cm.diagonal().sum()) / len(Y_test)  # Calculate accuracy based on the confusion matrix\n",
        "\n",
        "# Print the accuracy of the model\n",
        "print(\"\\nAccuracy Of SVM For The Given Dataset : \", accuracy)\n"
      ],
      "metadata": {
        "colab": {
          "base_uri": "https://localhost:8080/"
        },
        "id": "ezyjCYsoFz7H",
        "outputId": "c4144747-f4ec-423b-a630-22644ff9f85f"
      },
      "execution_count": 22,
      "outputs": [
        {
          "output_type": "stream",
          "name": "stdout",
          "text": [
            "[LibSVM]\n",
            "Accuracy Of SVM For The Given Dataset :  0.5135427952329361\n"
          ]
        }
      ]
    },
    {
      "cell_type": "code",
      "source": [
        "#Support Vector Machine (SVM) with Linear Kernel for Heart Disease Prediction\n",
        "\n",
        "# Importing the necessary module for dataset splitting\n",
        "from sklearn.model_selection import train_test_split\n",
        "\n",
        "# Splitting the dataset into training (10%) and testing (90%) sets\n",
        "training_set, test_set = train_test_split(df, test_size=0.9, random_state=42)\n",
        "\n",
        "# Extracting feature values (columns 0-12) and target values (column 13) for training and testing\n",
        "X_train = training_set.iloc[:, 0:13].values  # Features for training\n",
        "Y_train = training_set.iloc[:, 13].values  # Target for training\n",
        "X_test = test_set.iloc[:, 0:13].values  # Features for testing\n",
        "Y_test = test_set.iloc[:, 13].values  # Target for testing\n",
        "\n",
        "# Importing and configuring the SVM classifier with a linear kernel\n",
        "from sklearn.svm import SVC\n",
        "classifier = SVC(\n",
        "    kernel='linear',  # Using a linear kernel\n",
        "    random_state=42,  # Setting the random state for reproducibility\n",
        "    verbose=True,  # Enabling verbose output for detailed logs during training\n",
        "    decision_function_shape='ovr',  # Using 'one-vs-rest' strategy for decision function\n",
        "    break_ties=True  # Enable breaking ties if needed during predictions\n",
        ")\n",
        "\n",
        "# Training the SVM model using the training data\n",
        "classifier.fit(X_train, Y_train)\n",
        "\n",
        "# Predicting the outcomes for the test set using the trained SVM model\n",
        "Y_pred = classifier.predict(X_test)\n",
        "\n",
        "# Importing the confusion matrix function to evaluate the model\n",
        "from sklearn.metrics import confusion_matrix\n",
        "\n",
        "# Generating the confusion matrix to compare actual vs predicted values\n",
        "cm = confusion_matrix(Y_test, Y_pred)\n",
        "\n",
        "# Calculating accuracy based on the confusion matrix\n",
        "accuracy = float(cm.diagonal().sum()) / len(Y_test)\n",
        "\n",
        "# Printing the calculated accuracy of the SVM model\n",
        "print(\"\\nAccuracy Of SVM For The Given Dataset : \", accuracy)\n",
        "\n"
      ],
      "metadata": {
        "colab": {
          "base_uri": "https://localhost:8080/"
        },
        "id": "9Cj3yFvCF4ng",
        "outputId": "0cb9e719-1bb4-4b30-a020-e82cd0efca37"
      },
      "execution_count": 23,
      "outputs": [
        {
          "output_type": "stream",
          "name": "stdout",
          "text": [
            "[LibSVM]\n",
            "Accuracy Of SVM For The Given Dataset :  0.8104008667388949\n"
          ]
        }
      ]
    },
    {
      "cell_type": "code",
      "source": [
        "#Implementing Support Vector Machine (SVM) with Linear Kernel for Heart Disease Prediction\n",
        "\n",
        "# Importing the train_test_split function for splitting the dataset\n",
        "from sklearn.model_selection import train_test_split\n",
        "\n",
        "# Extracting the target variable (y) and features (x) from the dataset\n",
        "y = df['target'].to_numpy()  # Target variable as a numpy array\n",
        "x = df.iloc[:, 0:13].to_numpy()  # Features as a numpy array (columns 0-12)\n",
        "\n",
        "# Splitting the dataset into training (90%) and testing (10%) sets\n",
        "xtrain, xtest, ytrain, ytest = train_test_split(x, y, test_size=0.1)\n",
        "\n",
        "# Importing and configuring the SVM classifier\n",
        "from sklearn.svm import SVC\n",
        "classifier = SVC(\n",
        "    kernel='linear',  # Using a linear kernel\n",
        "    verbose=True,  # Enabling verbose output for training process\n",
        "    decision_function_shape='ovr'  # One-vs-Rest strategy for decision function\n",
        ")\n",
        "\n",
        "# Training the SVM classifier on the training dataset\n",
        "classifier.fit(xtrain, ytrain)\n",
        "\n",
        "# Predicting the test set outcomes using the trained model\n",
        "Y_pred = classifier.predict(xtest)\n",
        "\n",
        "# Importing the confusion matrix function for evaluation\n",
        "from sklearn.metrics import confusion_matrix\n",
        "\n",
        "# Generating the confusion matrix to compare actual vs predicted outcomes\n",
        "cm = confusion_matrix(ytest, Y_pred)\n",
        "\n",
        "# Calculating the accuracy using the confusion matrix\n",
        "accuracy = float(cm.diagonal().sum()) / len(ytest)  # Accuracy = Correct Predictions / Total Predictions\n",
        "print(\"\\nAccuracy Of SVM For The Given Dataset : \", accuracy)\n",
        "\n",
        "# Calculating accuracy using the accuracy_score function\n",
        "from sklearn.metrics import accuracy_score\n",
        "Accuracy = accuracy_score(Y_pred, ytest)\n",
        "print(Accuracy)\n"
      ],
      "metadata": {
        "colab": {
          "base_uri": "https://localhost:8080/"
        },
        "id": "IU9A_ytSGaLI",
        "outputId": "d66ac659-47d5-45ff-872f-63775efce886"
      },
      "execution_count": 24,
      "outputs": [
        {
          "output_type": "stream",
          "name": "stdout",
          "text": [
            "[LibSVM]\n",
            "Accuracy Of SVM For The Given Dataset :  0.9029126213592233\n",
            "0.9029126213592233\n"
          ]
        }
      ]
    },
    {
      "cell_type": "code",
      "source": [
        "#Heart Disease Prediction using SVM with Linear Kernel\n",
        "\n",
        "# Importing train_test_split for dataset splitting\n",
        "from sklearn.model_selection import train_test_split\n",
        "\n",
        "# Extracting the target variable (y) and feature variables (x) from the dataset\n",
        "y = df['target'].to_numpy()  # Target variable as a numpy array\n",
        "x = df.iloc[:, 0:13].to_numpy()  # Features (first 13 columns) as a numpy array\n",
        "\n",
        "# Splitting the dataset into training (91%) and testing (9%) sets\n",
        "xtrain, xtest, ytrain, ytest = train_test_split(x, y, test_size=0.09)\n",
        "\n",
        "# Importing and setting up the SVM classifier\n",
        "from sklearn.svm import SVC\n",
        "classifier = SVC(\n",
        "    kernel='linear',  # Using a linear kernel\n",
        "    verbose=True,  # Enables verbose output for the training process\n",
        "    decision_function_shape='ovr'  # One-vs-Rest decision function strategy\n",
        ")\n",
        "\n",
        "# Training the SVM classifier on the training dataset\n",
        "classifier.fit(xtrain, ytrain)\n",
        "\n",
        "# Making predictions on the test dataset\n",
        "Y_pred = classifier.predict(xtest)\n",
        "\n",
        "# Importing metrics for evaluation\n",
        "from sklearn.metrics import confusion_matrix\n",
        "\n",
        "# Generating the confusion matrix to evaluate the model's performance\n",
        "cm = confusion_matrix(ytest, Y_pred)\n",
        "\n",
        "# Calculating accuracy manually using the confusion matrix\n",
        "accuracy = float(cm.diagonal().sum()) / len(ytest)  # Correct predictions / Total predictions\n",
        "print(\"\\nAccuracy Of SVM For The Given Dataset : \", accuracy)\n",
        "\n",
        "# Calculating accuracy using accuracy_score for comparison\n",
        "from sklearn.metrics import accuracy_score\n",
        "Accuracy = accuracy_score(Y_pred, ytest)\n",
        "print(Accuracy)\n"
      ],
      "metadata": {
        "colab": {
          "base_uri": "https://localhost:8080/"
        },
        "id": "nKKBoe5NGt2g",
        "outputId": "18bef457-ff6a-49c8-d8ef-feed57ecfb22"
      },
      "execution_count": 25,
      "outputs": [
        {
          "output_type": "stream",
          "name": "stdout",
          "text": [
            "[LibSVM]\n",
            "Accuracy Of SVM For The Given Dataset :  0.8279569892473119\n",
            "0.8279569892473119\n"
          ]
        }
      ]
    },
    {
      "cell_type": "code",
      "source": [
        "#Checking Skewness of Dataset Features\n",
        "# Calculating the skewness of each column in the DataFrame\n",
        "df.skew()\n"
      ],
      "metadata": {
        "colab": {
          "base_uri": "https://localhost:8080/",
          "height": 523
        },
        "id": "E6ZU2l14HIpY",
        "outputId": "60c9bd09-1ef0-4b2b-db30-f55f9d540a4b"
      },
      "execution_count": 26,
      "outputs": [
        {
          "output_type": "execute_result",
          "data": {
            "text/plain": [
              "age        -0.248866\n",
              "sex        -0.851449\n",
              "cp          0.529455\n",
              "trestbps    0.739768\n",
              "chol        1.074073\n",
              "fbs         1.971339\n",
              "restecg     0.180440\n",
              "thalach    -0.513777\n",
              "exang       0.692655\n",
              "oldpeak     1.210899\n",
              "slope      -0.479134\n",
              "ca          1.261189\n",
              "thal       -0.524390\n",
              "target     -0.052778\n",
              "dtype: float64"
            ],
            "text/html": [
              "<div>\n",
              "<style scoped>\n",
              "    .dataframe tbody tr th:only-of-type {\n",
              "        vertical-align: middle;\n",
              "    }\n",
              "\n",
              "    .dataframe tbody tr th {\n",
              "        vertical-align: top;\n",
              "    }\n",
              "\n",
              "    .dataframe thead th {\n",
              "        text-align: right;\n",
              "    }\n",
              "</style>\n",
              "<table border=\"1\" class=\"dataframe\">\n",
              "  <thead>\n",
              "    <tr style=\"text-align: right;\">\n",
              "      <th></th>\n",
              "      <th>0</th>\n",
              "    </tr>\n",
              "  </thead>\n",
              "  <tbody>\n",
              "    <tr>\n",
              "      <th>age</th>\n",
              "      <td>-0.248866</td>\n",
              "    </tr>\n",
              "    <tr>\n",
              "      <th>sex</th>\n",
              "      <td>-0.851449</td>\n",
              "    </tr>\n",
              "    <tr>\n",
              "      <th>cp</th>\n",
              "      <td>0.529455</td>\n",
              "    </tr>\n",
              "    <tr>\n",
              "      <th>trestbps</th>\n",
              "      <td>0.739768</td>\n",
              "    </tr>\n",
              "    <tr>\n",
              "      <th>chol</th>\n",
              "      <td>1.074073</td>\n",
              "    </tr>\n",
              "    <tr>\n",
              "      <th>fbs</th>\n",
              "      <td>1.971339</td>\n",
              "    </tr>\n",
              "    <tr>\n",
              "      <th>restecg</th>\n",
              "      <td>0.180440</td>\n",
              "    </tr>\n",
              "    <tr>\n",
              "      <th>thalach</th>\n",
              "      <td>-0.513777</td>\n",
              "    </tr>\n",
              "    <tr>\n",
              "      <th>exang</th>\n",
              "      <td>0.692655</td>\n",
              "    </tr>\n",
              "    <tr>\n",
              "      <th>oldpeak</th>\n",
              "      <td>1.210899</td>\n",
              "    </tr>\n",
              "    <tr>\n",
              "      <th>slope</th>\n",
              "      <td>-0.479134</td>\n",
              "    </tr>\n",
              "    <tr>\n",
              "      <th>ca</th>\n",
              "      <td>1.261189</td>\n",
              "    </tr>\n",
              "    <tr>\n",
              "      <th>thal</th>\n",
              "      <td>-0.524390</td>\n",
              "    </tr>\n",
              "    <tr>\n",
              "      <th>target</th>\n",
              "      <td>-0.052778</td>\n",
              "    </tr>\n",
              "  </tbody>\n",
              "</table>\n",
              "</div><br><label><b>dtype:</b> float64</label>"
            ]
          },
          "metadata": {},
          "execution_count": 26
        }
      ]
    },
    {
      "cell_type": "code",
      "source": [
        "# Kurtosis of Dataset Features\n",
        "# Calculating the kurtosis of each column in the DataFrame\n",
        "df.kurtosis()\n"
      ],
      "metadata": {
        "colab": {
          "base_uri": "https://localhost:8080/",
          "height": 523
        },
        "id": "rLPy7z4tHU8o",
        "outputId": "d5ca0a3a-3d48-4906-df65-a615a834c549"
      },
      "execution_count": 27,
      "outputs": [
        {
          "output_type": "execute_result",
          "data": {
            "text/plain": [
              "age        -0.525618\n",
              "sex        -1.277531\n",
              "cp         -1.149500\n",
              "trestbps    0.991221\n",
              "chol        3.996803\n",
              "fbs         1.889859\n",
              "restecg    -1.309614\n",
              "thalach    -0.088822\n",
              "exang      -1.523205\n",
              "oldpeak     1.314471\n",
              "slope      -0.647129\n",
              "ca          0.701123\n",
              "thal        0.250827\n",
              "target     -2.001123\n",
              "dtype: float64"
            ],
            "text/html": [
              "<div>\n",
              "<style scoped>\n",
              "    .dataframe tbody tr th:only-of-type {\n",
              "        vertical-align: middle;\n",
              "    }\n",
              "\n",
              "    .dataframe tbody tr th {\n",
              "        vertical-align: top;\n",
              "    }\n",
              "\n",
              "    .dataframe thead th {\n",
              "        text-align: right;\n",
              "    }\n",
              "</style>\n",
              "<table border=\"1\" class=\"dataframe\">\n",
              "  <thead>\n",
              "    <tr style=\"text-align: right;\">\n",
              "      <th></th>\n",
              "      <th>0</th>\n",
              "    </tr>\n",
              "  </thead>\n",
              "  <tbody>\n",
              "    <tr>\n",
              "      <th>age</th>\n",
              "      <td>-0.525618</td>\n",
              "    </tr>\n",
              "    <tr>\n",
              "      <th>sex</th>\n",
              "      <td>-1.277531</td>\n",
              "    </tr>\n",
              "    <tr>\n",
              "      <th>cp</th>\n",
              "      <td>-1.149500</td>\n",
              "    </tr>\n",
              "    <tr>\n",
              "      <th>trestbps</th>\n",
              "      <td>0.991221</td>\n",
              "    </tr>\n",
              "    <tr>\n",
              "      <th>chol</th>\n",
              "      <td>3.996803</td>\n",
              "    </tr>\n",
              "    <tr>\n",
              "      <th>fbs</th>\n",
              "      <td>1.889859</td>\n",
              "    </tr>\n",
              "    <tr>\n",
              "      <th>restecg</th>\n",
              "      <td>-1.309614</td>\n",
              "    </tr>\n",
              "    <tr>\n",
              "      <th>thalach</th>\n",
              "      <td>-0.088822</td>\n",
              "    </tr>\n",
              "    <tr>\n",
              "      <th>exang</th>\n",
              "      <td>-1.523205</td>\n",
              "    </tr>\n",
              "    <tr>\n",
              "      <th>oldpeak</th>\n",
              "      <td>1.314471</td>\n",
              "    </tr>\n",
              "    <tr>\n",
              "      <th>slope</th>\n",
              "      <td>-0.647129</td>\n",
              "    </tr>\n",
              "    <tr>\n",
              "      <th>ca</th>\n",
              "      <td>0.701123</td>\n",
              "    </tr>\n",
              "    <tr>\n",
              "      <th>thal</th>\n",
              "      <td>0.250827</td>\n",
              "    </tr>\n",
              "    <tr>\n",
              "      <th>target</th>\n",
              "      <td>-2.001123</td>\n",
              "    </tr>\n",
              "  </tbody>\n",
              "</table>\n",
              "</div><br><label><b>dtype:</b> float64</label>"
            ]
          },
          "metadata": {},
          "execution_count": 27
        }
      ]
    },
    {
      "cell_type": "markdown",
      "source": [
        "Visualizing Feature Correlations with a Heatmap"
      ],
      "metadata": {
        "id": "MhM8jNfPHqO2"
      }
    },
    {
      "cell_type": "code",
      "source": [
        "#Visualizing Feature Correlations with a Heatmap\n",
        "# Creating a heatmap to display correlations between dataset features\n",
        "plt.figure(figsize=(10,7.5))  # Setting the figure size for better visibility\n",
        "sb.heatmap(df.corr(), annot=True, cmap='BrBG')  # Generating a heatmap with annotations and a color palette\n"
      ],
      "metadata": {
        "colab": {
          "base_uri": "https://localhost:8080/",
          "height": 703
        },
        "id": "CEPS6265HrMo",
        "outputId": "47dc8a9e-a37e-4fab-c11b-fb160649ee77"
      },
      "execution_count": 28,
      "outputs": [
        {
          "output_type": "execute_result",
          "data": {
            "text/plain": [
              "<Axes: >"
            ]
          },
          "metadata": {},
          "execution_count": 28
        },
        {
          "output_type": "display_data",
          "data": {
            "text/plain": [
              "<Figure size 1000x750 with 2 Axes>"
            ],
            "image/png": "[encoded data removed]"
          },
          "metadata": {}
        }
      ]
    },
    {
      "cell_type": "code",
      "source": [
        "#Splitting the Dataset into Features and Target Variables\n",
        "# Extracting the feature columns (all columns except the last one) and converting them to numpy arrays\n",
        "x = df.iloc[:,:-1].values  # Features (X) - all rows, all columns except the last\n",
        "y = df.iloc[:,-1].values   # Target variable (Y) - last column (usually the label or outcome)\n",
        "# Printing the features (x) and target (y) variables\n",
        "x\n",
        "y\n"
      ],
      "metadata": {
        "colab": {
          "base_uri": "https://localhost:8080/"
        },
        "id": "iuq13uMlHwYw",
        "outputId": "ac3f7651-ed9c-47e4-844b-88080b52f822"
      },
      "execution_count": 29,
      "outputs": [
        {
          "output_type": "execute_result",
          "data": {
            "text/plain": [
              "array([0, 0, 0, ..., 0, 1, 0])"
            ]
          },
          "metadata": {},
          "execution_count": 29
        }
      ]
    },
    {
      "cell_type": "code",
      "source": [
        "from collections import Counter\n",
        "# Counting the frequency of each class in the target variable 'y'\n",
        "# Counter is used to create a dictionary-like object that counts the occurrences of each value in 'y'\n",
        "counter_before = Counter(y)\n",
        "# Printing the frequency of each class in the target variable\n",
        "print(counter_before)\n",
        "\n"
      ],
      "metadata": {
        "colab": {
          "base_uri": "https://localhost:8080/"
        },
        "id": "OsbvvfkyH_Wo",
        "outputId": "2e427f00-600e-4d8e-e38e-f9b2224ed20f"
      },
      "execution_count": 30,
      "outputs": [
        {
          "output_type": "stream",
          "name": "stdout",
          "text": [
            "Counter({1: 526, 0: 499})\n"
          ]
        }
      ]
    },
    {
      "cell_type": "code",
      "source": [
        "from imblearn.over_sampling import SMOTE\n",
        "\n",
        "# Applying SMOTE (Synthetic Minority Over-sampling Technique) to handle class imbalance\n",
        "# SMOTE generates synthetic samples for the minority class to balance the class distribution\n",
        "oversample = SMOTE()\n",
        "\n",
        "# Using fit_resample to generate synthetic samples and resample the dataset\n",
        "x, y = oversample.fit_resample(x, y)\n",
        "\n",
        "# Counting the frequency of each class in the target variable 'y' after resampling\n",
        "# Counter is used to check the new class distribution\n",
        "counter_after = Counter(y)\n",
        "\n",
        "# Printing the frequency of each class in the target variable after applying SMOTE\n",
        "print(counter_after)\n"
      ],
      "metadata": {
        "colab": {
          "base_uri": "https://localhost:8080/"
        },
        "id": "MNXukCLIILcA",
        "outputId": "a4adebca-7b24-4401-ce6b-444f7571a162"
      },
      "execution_count": 31,
      "outputs": [
        {
          "output_type": "stream",
          "name": "stdout",
          "text": [
            "Counter({0: 526, 1: 526})\n"
          ]
        }
      ]
    },
    {
      "cell_type": "code",
      "source": [
        "from sklearn.model_selection import train_test_split\n",
        "\n",
        "# Splitting the dataset into training and testing sets\n",
        "# 30% of the data will be used for testing and 70% for training\n",
        "# 'random_state' ensures reproducibility of the split\n",
        "\n",
        "x_train, x_test, y_train, y_test = train_test_split(x, y, test_size=0.3, random_state=42)\n",
        "\n",
        "# Printing the shape (size) of the training and testing datasets for both features (x) and target (y)\n",
        "print('size of X_train:', x_train.shape)\n",
        "print('size of X_test:', x_test.shape)\n",
        "print('size of y_train:', y_train.shape)\n",
        "print('size of y_test:', y_test.shape)\n"
      ],
      "metadata": {
        "colab": {
          "base_uri": "https://localhost:8080/"
        },
        "id": "TTx233aVJTkg",
        "outputId": "c730d51a-8d7b-473c-e68e-d35956ed3ae0"
      },
      "execution_count": 32,
      "outputs": [
        {
          "output_type": "stream",
          "name": "stdout",
          "text": [
            "size of X_train: (736, 13)\n",
            "size of X_test: (316, 13)\n",
            "size of y_train: (736,)\n",
            "size of y_test: (316,)\n"
          ]
        }
      ]
    },
    {
      "cell_type": "code",
      "source": [
        "# Importing Required Libraries for Building Convolutional Neural Network (CNN) Model\n",
        "\n",
        "from tensorflow.keras.layers import Flatten, Dense, Conv1D, MaxPool1D, Dropout\n",
        "import tensorflow as tf\n",
        "\n"
      ],
      "metadata": {
        "id": "XSR94JJsJcfI"
      },
      "execution_count": 33,
      "outputs": []
    },
    {
      "cell_type": "code",
      "source": [
        "# Reshaping the Training and Testing Data for Input into the CNN Model\n",
        "x_train = np.array(x_train).reshape(x_train.shape[0], x_train.shape[1], 1)  # Reshaping x_train to have 3 dimensions (samples, features, channels)\n",
        "x_test = np.array(x_test).reshape(x_test.shape[0], x_test.shape[1], 1)  # Reshaping x_test to have 3 dimensions (samples, features, channels)\n"
      ],
      "metadata": {
        "id": "5S4EooTUJugA"
      },
      "execution_count": 34,
      "outputs": []
    },
    {
      "cell_type": "code",
      "source": [
        "# Printing the shapes of the reshaped X_train and X_test datasets\n",
        "print(\"X Train shape: \", x_train.shape)  # Displaying the shape of the training data after reshaping\n",
        "print(\"X Test shape: \", x_test.shape)  # Displaying the shape of the testing data after reshaping\n"
      ],
      "metadata": {
        "colab": {
          "base_uri": "https://localhost:8080/"
        },
        "id": "EspiOxAXNzRx",
        "outputId": "4855582f-af7d-4054-82bd-e2eab008e0c3"
      },
      "execution_count": 35,
      "outputs": [
        {
          "output_type": "stream",
          "name": "stdout",
          "text": [
            "X Train shape:  (736, 13, 1)\n",
            "X Test shape:  (316, 13, 1)\n"
          ]
        }
      ]
    },
    {
      "cell_type": "markdown",
      "source": [
        "Building the Convolutional Neural Network (CNN) Model"
      ],
      "metadata": {
        "id": "tpqFzPbpOSrZ"
      }
    },
    {
      "cell_type": "code",
      "source": [
        "# Initializing the Sequential model\n",
        "cnn_model = tf.keras.models.Sequential()\n",
        "\n",
        "# Adding the first Conv1D layer with 32 filters, LeakyReLU activation, and same padding\n",
        "cnn_model.add(Conv1D(filters=32, kernel_size=(3,), padding='same', activation=tf.keras.layers.LeakyReLU(alpha=0.001), input_shape = (x_train.shape[1],1)))\n",
        "\n",
        "# Adding the second Conv1D layer with 64 filters and LeakyReLU activation\n",
        "cnn_model.add(Conv1D(filters=64, kernel_size=(3,), padding='same', activation=tf.keras.layers.LeakyReLU(alpha=0.001)))\n",
        "\n",
        "# Adding the third Conv1D layer with 128 filters and LeakyReLU activation\n",
        "cnn_model.add(Conv1D(filters=128, kernel_size=(3,), padding='same', activation=tf.keras.layers.LeakyReLU(alpha=0.001)))\n",
        "\n",
        "# Adding MaxPooling layer to reduce spatial dimensions\n",
        "cnn_model.add(MaxPool1D(pool_size=(3,), strides=2, padding='same'))\n",
        "\n",
        "# Adding Dropout to prevent overfitting\n",
        "cnn_model.add(Dropout(0.5))\n",
        "\n",
        "# Flattening the output to pass to the Dense layers\n",
        "cnn_model.add(Flatten())\n",
        "\n",
        "# Adding the first Dense layer with 256 units and LeakyReLU activation\n",
        "cnn_model.add(Dense(units = 256, activation=tf.keras.layers.LeakyReLU(alpha=0.001)))\n",
        "\n",
        "# Adding the second Dense layer with 512 units and LeakyReLU activation\n",
        "cnn_model.add(Dense(units = 512, activation=tf.keras.layers.LeakyReLU(alpha=0.001)))\n",
        "\n",
        "# Adding the final output layer with 10 units (for classification) and softmax activation\n",
        "cnn_model.add(Dense(units = 10, activation='softmax'))\n",
        "\n",
        "# Compiling the model with Adam optimizer and sparse categorical crossentropy loss function\n",
        "cnn_model.compile(optimizer='adam', loss = 'sparse_categorical_crossentropy', metrics=['accuracy'])\n"
      ],
      "metadata": {
        "colab": {
          "base_uri": "https://localhost:8080/"
        },
        "id": "pKQi4b2KOTfo",
        "outputId": "756eba70-24cd-45f2-bbe8-68eb107732f3"
      },
      "execution_count": 36,
      "outputs": [
        {
          "output_type": "stream",
          "name": "stderr",
          "text": [
            "/usr/local/lib/python3.10/dist-packages/keras/src/layers/activations/leaky_relu.py:41: UserWarning: Argument `alpha` is deprecated. Use `negative_slope` instead.\n",
            "  warnings.warn(\n",
            "/usr/local/lib/python3.10/dist-packages/keras/src/layers/convolutional/base_conv.py:107: UserWarning: Do not pass an `input_shape`/`input_dim` argument to a layer. When using Sequential models, prefer using an `Input(shape)` object as the first layer in the model instead.\n",
            "  super().__init__(activity_regularizer=activity_regularizer, **kwargs)\n"
          ]
        }
      ]
    },
    {
      "cell_type": "code",
      "source": [
        "#Displaying the summary of the CNN model to check the architecture and parameters\n",
        "cnn_model.summary()\n"
      ],
      "metadata": {
        "colab": {
          "base_uri": "https://localhost:8080/",
          "height": 442
        },
        "id": "n6NDgf1mObB4",
        "outputId": "749a8fd2-ab26-4114-bb52-11e2d5c702ff"
      },
      "execution_count": 37,
      "outputs": [
        {
          "output_type": "display_data",
          "data": {
            "text/plain": [
              "\u001b[1mModel: \"sequential\"\u001b[0m\n"
            ],
            "text/html": [
              "<pre style=\"white-space:pre;overflow-x:auto;line-height:normal;font-family:Menlo,'DejaVu Sans Mono',consolas,'Courier New',monospace\"><span style=\"font-weight: bold\">Model: \"sequential\"</span>\n",
              "</pre>\n"
            ]
          },
          "metadata": {}
        },
        {
          "output_type": "display_data",
          "data": {
            "text/plain": [
              "┏━━━━━━━━━━━━━━━━━━━━━━━━━━━━━━━━━━━━━━┳━━━━━━━━━━━━━━━━━━━━━━━━━━━━━┳━━━━━━━━━━━━━━━━━┓\n",
              "┃\u001b[1m \u001b[0m\u001b[1mLayer (type)                        \u001b[0m\u001b[1m \u001b[0m┃\u001b[1m \u001b[0m\u001b[1mOutput Shape               \u001b[0m\u001b[1m \u001b[0m┃\u001b[1m \u001b[0m\u001b[1m        Param #\u001b[0m\u001b[1m \u001b[0m┃\n",
              "┡━━━━━━━━━━━━━━━━━━━━━━━━━━━━━━━━━━━━━━╇━━━━━━━━━━━━━━━━━━━━━━━━━━━━━╇━━━━━━━━━━━━━━━━━┩\n",
              "│ conv1d (\u001b[38;5;33mConv1D\u001b[0m)                      │ (\u001b[38;5;45mNone\u001b[0m, \u001b[38;5;34m13\u001b[0m, \u001b[38;5;34m32\u001b[0m)              │             \u001b[38;5;34m128\u001b[0m │\n",
              "├──────────────────────────────────────┼─────────────────────────────┼─────────────────┤\n",
              "│ conv1d_1 (\u001b[38;5;33mConv1D\u001b[0m)                    │ (\u001b[38;5;45mNone\u001b[0m, \u001b[38;5;34m13\u001b[0m, \u001b[38;5;34m64\u001b[0m)              │           \u001b[38;5;34m6,208\u001b[0m │\n",
              "├──────────────────────────────────────┼─────────────────────────────┼─────────────────┤\n",
              "│ conv1d_2 (\u001b[38;5;33mConv1D\u001b[0m)                    │ (\u001b[38;5;45mNone\u001b[0m, \u001b[38;5;34m13\u001b[0m, \u001b[38;5;34m128\u001b[0m)             │          \u001b[38;5;34m24,704\u001b[0m │\n",
              "├──────────────────────────────────────┼─────────────────────────────┼─────────────────┤\n",
              "│ max_pooling1d (\u001b[38;5;33mMaxPooling1D\u001b[0m)         │ (\u001b[38;5;45mNone\u001b[0m, \u001b[38;5;34m7\u001b[0m, \u001b[38;5;34m128\u001b[0m)              │               \u001b[38;5;34m0\u001b[0m │\n",
              "├──────────────────────────────────────┼─────────────────────────────┼─────────────────┤\n",
              "│ dropout (\u001b[38;5;33mDropout\u001b[0m)                    │ (\u001b[38;5;45mNone\u001b[0m, \u001b[38;5;34m7\u001b[0m, \u001b[38;5;34m128\u001b[0m)              │               \u001b[38;5;34m0\u001b[0m │\n",
              "├──────────────────────────────────────┼─────────────────────────────┼─────────────────┤\n",
              "│ flatten (\u001b[38;5;33mFlatten\u001b[0m)                    │ (\u001b[38;5;45mNone\u001b[0m, \u001b[38;5;34m896\u001b[0m)                 │               \u001b[38;5;34m0\u001b[0m │\n",
              "├──────────────────────────────────────┼─────────────────────────────┼─────────────────┤\n",
              "│ dense (\u001b[38;5;33mDense\u001b[0m)                        │ (\u001b[38;5;45mNone\u001b[0m, \u001b[38;5;34m256\u001b[0m)                 │         \u001b[38;5;34m229,632\u001b[0m │\n",
              "├──────────────────────────────────────┼─────────────────────────────┼─────────────────┤\n",
              "│ dense_1 (\u001b[38;5;33mDense\u001b[0m)                      │ (\u001b[38;5;45mNone\u001b[0m, \u001b[38;5;34m512\u001b[0m)                 │         \u001b[38;5;34m131,584\u001b[0m │\n",
              "├──────────────────────────────────────┼─────────────────────────────┼─────────────────┤\n",
              "│ dense_2 (\u001b[38;5;33mDense\u001b[0m)                      │ (\u001b[38;5;45mNone\u001b[0m, \u001b[38;5;34m10\u001b[0m)                  │           \u001b[38;5;34m5,130\u001b[0m │\n",
              "└──────────────────────────────────────┴─────────────────────────────┴─────────────────┘\n"
            ],
            "text/html": [
              "<pre style=\"white-space:pre;overflow-x:auto;line-height:normal;font-family:Menlo,'DejaVu Sans Mono',consolas,'Courier New',monospace\">┏━━━━━━━━━━━━━━━━━━━━━━━━━━━━━━━━━━━━━━┳━━━━━━━━━━━━━━━━━━━━━━━━━━━━━┳━━━━━━━━━━━━━━━━━┓\n",
              "┃<span style=\"font-weight: bold\"> Layer (type)                         </span>┃<span style=\"font-weight: bold\"> Output Shape                </span>┃<span style=\"font-weight: bold\">         Param # </span>┃\n",
              "┡━━━━━━━━━━━━━━━━━━━━━━━━━━━━━━━━━━━━━━╇━━━━━━━━━━━━━━━━━━━━━━━━━━━━━╇━━━━━━━━━━━━━━━━━┩\n",
              "│ conv1d (<span style=\"color: #0087ff; text-decoration-color: #0087ff\">Conv1D</span>)                      │ (<span style=\"color: #00d7ff; text-decoration-color: #00d7ff\">None</span>, <span style=\"color: #00af00; text-decoration-color: #00af00\">13</span>, <span style=\"color: #00af00; text-decoration-color: #00af00\">32</span>)              │             <span style=\"color: #00af00; text-decoration-color: #00af00\">128</span> │\n",
              "├──────────────────────────────────────┼─────────────────────────────┼─────────────────┤\n",
              "│ conv1d_1 (<span style=\"color: #0087ff; text-decoration-color: #0087ff\">Conv1D</span>)                    │ (<span style=\"color: #00d7ff; text-decoration-color: #00d7ff\">None</span>, <span style=\"color: #00af00; text-decoration-color: #00af00\">13</span>, <span style=\"color: #00af00; text-decoration-color: #00af00\">64</span>)              │           <span style=\"color: #00af00; text-decoration-color: #00af00\">6,208</span> │\n",
              "├──────────────────────────────────────┼─────────────────────────────┼─────────────────┤\n",
              "│ conv1d_2 (<span style=\"color: #0087ff; text-decoration-color: #0087ff\">Conv1D</span>)                    │ (<span style=\"color: #00d7ff; text-decoration-color: #00d7ff\">None</span>, <span style=\"color: #00af00; text-decoration-color: #00af00\">13</span>, <span style=\"color: #00af00; text-decoration-color: #00af00\">128</span>)             │          <span style=\"color: #00af00; text-decoration-color: #00af00\">24,704</span> │\n",
              "├──────────────────────────────────────┼─────────────────────────────┼─────────────────┤\n",
              "│ max_pooling1d (<span style=\"color: #0087ff; text-decoration-color: #0087ff\">MaxPooling1D</span>)         │ (<span style=\"color: #00d7ff; text-decoration-color: #00d7ff\">None</span>, <span style=\"color: #00af00; text-decoration-color: #00af00\">7</span>, <span style=\"color: #00af00; text-decoration-color: #00af00\">128</span>)              │               <span style=\"color: #00af00; text-decoration-color: #00af00\">0</span> │\n",
              "├──────────────────────────────────────┼─────────────────────────────┼─────────────────┤\n",
              "│ dropout (<span style=\"color: #0087ff; text-decoration-color: #0087ff\">Dropout</span>)                    │ (<span style=\"color: #00d7ff; text-decoration-color: #00d7ff\">None</span>, <span style=\"color: #00af00; text-decoration-color: #00af00\">7</span>, <span style=\"color: #00af00; text-decoration-color: #00af00\">128</span>)              │               <span style=\"color: #00af00; text-decoration-color: #00af00\">0</span> │\n",
              "├──────────────────────────────────────┼─────────────────────────────┼─────────────────┤\n",
              "│ flatten (<span style=\"color: #0087ff; text-decoration-color: #0087ff\">Flatten</span>)                    │ (<span style=\"color: #00d7ff; text-decoration-color: #00d7ff\">None</span>, <span style=\"color: #00af00; text-decoration-color: #00af00\">896</span>)                 │               <span style=\"color: #00af00; text-decoration-color: #00af00\">0</span> │\n",
              "├──────────────────────────────────────┼─────────────────────────────┼─────────────────┤\n",
              "│ dense (<span style=\"color: #0087ff; text-decoration-color: #0087ff\">Dense</span>)                        │ (<span style=\"color: #00d7ff; text-decoration-color: #00d7ff\">None</span>, <span style=\"color: #00af00; text-decoration-color: #00af00\">256</span>)                 │         <span style=\"color: #00af00; text-decoration-color: #00af00\">229,632</span> │\n",
              "├──────────────────────────────────────┼─────────────────────────────┼─────────────────┤\n",
              "│ dense_1 (<span style=\"color: #0087ff; text-decoration-color: #0087ff\">Dense</span>)                      │ (<span style=\"color: #00d7ff; text-decoration-color: #00d7ff\">None</span>, <span style=\"color: #00af00; text-decoration-color: #00af00\">512</span>)                 │         <span style=\"color: #00af00; text-decoration-color: #00af00\">131,584</span> │\n",
              "├──────────────────────────────────────┼─────────────────────────────┼─────────────────┤\n",
              "│ dense_2 (<span style=\"color: #0087ff; text-decoration-color: #0087ff\">Dense</span>)                      │ (<span style=\"color: #00d7ff; text-decoration-color: #00d7ff\">None</span>, <span style=\"color: #00af00; text-decoration-color: #00af00\">10</span>)                  │           <span style=\"color: #00af00; text-decoration-color: #00af00\">5,130</span> │\n",
              "└──────────────────────────────────────┴─────────────────────────────┴─────────────────┘\n",
              "</pre>\n"
            ]
          },
          "metadata": {}
        },
        {
          "output_type": "display_data",
          "data": {
            "text/plain": [
              "\u001b[1m Total params: \u001b[0m\u001b[38;5;34m397,386\u001b[0m (1.52 MB)\n"
            ],
            "text/html": [
              "<pre style=\"white-space:pre;overflow-x:auto;line-height:normal;font-family:Menlo,'DejaVu Sans Mono',consolas,'Courier New',monospace\"><span style=\"font-weight: bold\"> Total params: </span><span style=\"color: #00af00; text-decoration-color: #00af00\">397,386</span> (1.52 MB)\n",
              "</pre>\n"
            ]
          },
          "metadata": {}
        },
        {
          "output_type": "display_data",
          "data": {
            "text/plain": [
              "\u001b[1m Trainable params: \u001b[0m\u001b[38;5;34m397,386\u001b[0m (1.52 MB)\n"
            ],
            "text/html": [
              "<pre style=\"white-space:pre;overflow-x:auto;line-height:normal;font-family:Menlo,'DejaVu Sans Mono',consolas,'Courier New',monospace\"><span style=\"font-weight: bold\"> Trainable params: </span><span style=\"color: #00af00; text-decoration-color: #00af00\">397,386</span> (1.52 MB)\n",
              "</pre>\n"
            ]
          },
          "metadata": {}
        },
        {
          "output_type": "display_data",
          "data": {
            "text/plain": [
              "\u001b[1m Non-trainable params: \u001b[0m\u001b[38;5;34m0\u001b[0m (0.00 B)\n"
            ],
            "text/html": [
              "<pre style=\"white-space:pre;overflow-x:auto;line-height:normal;font-family:Menlo,'DejaVu Sans Mono',consolas,'Courier New',monospace\"><span style=\"font-weight: bold\"> Non-trainable params: </span><span style=\"color: #00af00; text-decoration-color: #00af00\">0</span> (0.00 B)\n",
              "</pre>\n"
            ]
          },
          "metadata": {}
        }
      ]
    },
    {
      "cell_type": "markdown",
      "source": [
        "Training the CNN Model with the training data and validating with the test data"
      ],
      "metadata": {
        "id": "t4Gh_hi2PDm6"
      }
    },
    {
      "cell_type": "code",
      "source": [
        "#Training the CNN Model with the training data and validating with the test data\n",
        "cnn_model_history = cnn_model.fit(x_train, y_train, epochs=15, batch_size=10, validation_data=(x_test, y_test))\n"
      ],
      "metadata": {
        "colab": {
          "base_uri": "https://localhost:8080/"
        },
        "id": "tT7DyUcOPPLI",
        "outputId": "e8d7057e-7376-4b2e-b217-585c388bd40f"
      },
      "execution_count": 38,
      "outputs": [
        {
          "output_type": "stream",
          "name": "stdout",
          "text": [
            "Epoch 1/15\n",
            "\u001b[1m74/74\u001b[0m \u001b[32m━━━━━━━━━━━━━━━━━━━━\u001b[0m\u001b[37m\u001b[0m \u001b[1m3s\u001b[0m 13ms/step - accuracy: 0.4643 - loss: 4.3264 - val_accuracy: 0.5348 - val_loss: 0.6917\n",
            "Epoch 2/15\n",
            "\u001b[1m74/74\u001b[0m \u001b[32m━━━━━━━━━━━━━━━━━━━━\u001b[0m\u001b[37m\u001b[0m \u001b[1m1s\u001b[0m 9ms/step - accuracy: 0.5828 - loss: 0.7054 - val_accuracy: 0.6329 - val_loss: 0.6444\n",
            "Epoch 3/15\n",
            "\u001b[1m74/74\u001b[0m \u001b[32m━━━━━━━━━━━━━━━━━━━━\u001b[0m\u001b[37m\u001b[0m \u001b[1m1s\u001b[0m 10ms/step - accuracy: 0.5880 - loss: 0.7099 - val_accuracy: 0.5823 - val_loss: 0.6446\n",
            "Epoch 4/15\n",
            "\u001b[1m74/74\u001b[0m \u001b[32m━━━━━━━━━━━━━━━━━━━━\u001b[0m\u001b[37m\u001b[0m \u001b[1m1s\u001b[0m 11ms/step - accuracy: 0.6420 - loss: 0.6521 - val_accuracy: 0.5316 - val_loss: 0.7193\n",
            "Epoch 5/15\n",
            "\u001b[1m74/74\u001b[0m \u001b[32m━━━━━━━━━━━━━━━━━━━━\u001b[0m\u001b[37m\u001b[0m \u001b[1m1s\u001b[0m 11ms/step - accuracy: 0.6735 - loss: 0.6246 - val_accuracy: 0.6044 - val_loss: 0.6591\n",
            "Epoch 6/15\n",
            "\u001b[1m74/74\u001b[0m \u001b[32m━━━━━━━━━━━━━━━━━━━━\u001b[0m\u001b[37m\u001b[0m \u001b[1m1s\u001b[0m 10ms/step - accuracy: 0.7320 - loss: 0.5303 - val_accuracy: 0.7437 - val_loss: 0.4952\n",
            "Epoch 7/15\n",
            "\u001b[1m74/74\u001b[0m \u001b[32m━━━━━━━━━━━━━━━━━━━━\u001b[0m\u001b[37m\u001b[0m \u001b[1m1s\u001b[0m 9ms/step - accuracy: 0.7547 - loss: 0.4940 - val_accuracy: 0.8006 - val_loss: 0.4317\n",
            "Epoch 8/15\n",
            "\u001b[1m74/74\u001b[0m \u001b[32m━━━━━━━━━━━━━━━━━━━━\u001b[0m\u001b[37m\u001b[0m \u001b[1m1s\u001b[0m 9ms/step - accuracy: 0.7240 - loss: 0.5484 - val_accuracy: 0.8228 - val_loss: 0.4101\n",
            "Epoch 9/15\n",
            "\u001b[1m74/74\u001b[0m \u001b[32m━━━━━━━━━━━━━━━━━━━━\u001b[0m\u001b[37m\u001b[0m \u001b[1m2s\u001b[0m 16ms/step - accuracy: 0.7938 - loss: 0.4598 - val_accuracy: 0.8259 - val_loss: 0.4319\n",
            "Epoch 10/15\n",
            "\u001b[1m74/74\u001b[0m \u001b[32m━━━━━━━━━━━━━━━━━━━━\u001b[0m\u001b[37m\u001b[0m \u001b[1m1s\u001b[0m 16ms/step - accuracy: 0.7876 - loss: 0.4536 - val_accuracy: 0.8133 - val_loss: 0.4454\n",
            "Epoch 11/15\n",
            "\u001b[1m74/74\u001b[0m \u001b[32m━━━━━━━━━━━━━━━━━━━━\u001b[0m\u001b[37m\u001b[0m \u001b[1m1s\u001b[0m 17ms/step - accuracy: 0.7808 - loss: 0.4638 - val_accuracy: 0.8070 - val_loss: 0.3959\n",
            "Epoch 12/15\n",
            "\u001b[1m74/74\u001b[0m \u001b[32m━━━━━━━━━━━━━━━━━━━━\u001b[0m\u001b[37m\u001b[0m \u001b[1m1s\u001b[0m 12ms/step - accuracy: 0.8037 - loss: 0.4320 - val_accuracy: 0.8038 - val_loss: 0.4191\n",
            "Epoch 13/15\n",
            "\u001b[1m74/74\u001b[0m \u001b[32m━━━━━━━━━━━━━━━━━━━━\u001b[0m\u001b[37m\u001b[0m \u001b[1m1s\u001b[0m 13ms/step - accuracy: 0.7887 - loss: 0.4270 - val_accuracy: 0.8386 - val_loss: 0.3742\n",
            "Epoch 14/15\n",
            "\u001b[1m74/74\u001b[0m \u001b[32m━━━━━━━━━━━━━━━━━━━━\u001b[0m\u001b[37m\u001b[0m \u001b[1m1s\u001b[0m 11ms/step - accuracy: 0.7913 - loss: 0.4276 - val_accuracy: 0.8639 - val_loss: 0.3660\n",
            "Epoch 15/15\n",
            "\u001b[1m74/74\u001b[0m \u001b[32m━━━━━━━━━━━━━━━━━━━━\u001b[0m\u001b[37m\u001b[0m \u001b[1m1s\u001b[0m 10ms/step - accuracy: 0.7715 - loss: 0.4679 - val_accuracy: 0.8386 - val_loss: 0.3574\n"
          ]
        }
      ]
    },
    {
      "cell_type": "code",
      "source": [
        "# Plotting the accuracy and validation accuracy over the epochs\n",
        "plt.plot(cnn_model_history.history['accuracy'])\n",
        "plt.plot(cnn_model_history.history['val_accuracy'])\n",
        "plt.legend([\"accuracy\", \"val_accuracy\"])\n",
        "plt.title('Accuracy Vs Val_Accuracy')  # Title for the plot\n",
        "plt.xlabel('Epoch')  # Label for the x-axis (Epochs)\n",
        "plt.ylabel('Accuracy')  # Label for the y-axis (Accuracy)\n"
      ],
      "metadata": {
        "colab": {
          "base_uri": "https://localhost:8080/",
          "height": 489
        },
        "id": "Lk5caJRNPVTY",
        "outputId": "df5c99d5-6f4a-4cac-997b-6dfc81353ee0"
      },
      "execution_count": 39,
      "outputs": [
        {
          "output_type": "execute_result",
          "data": {
            "text/plain": [
              "Text(0, 0.5, 'Accuracy')"
            ]
          },
          "metadata": {},
          "execution_count": 39
        },
        {
          "output_type": "display_data",
          "data": {
            "text/plain": [
              "<Figure size 640x480 with 1 Axes>"
            ],
            "image/png": "[encoded data removed]"
          },
          "metadata": {}
        }
      ]
    },
    {
      "cell_type": "code",
      "source": [
        "# Printing the maximum training accuracy achieved during the training process\n",
        "print(max(cnn_model_history.history['accuracy']))\n"
      ],
      "metadata": {
        "colab": {
          "base_uri": "https://localhost:8080/"
        },
        "id": "_hExjebJQaMJ",
        "outputId": "11735b57-3e2b-42c4-de0c-1772c47dda44"
      },
      "execution_count": 40,
      "outputs": [
        {
          "output_type": "stream",
          "name": "stdout",
          "text": [
            "0.801630437374115\n"
          ]
        }
      ]
    },
    {
      "cell_type": "markdown",
      "source": [
        "Testing\n"
      ],
      "metadata": {
        "id": "lvcwaUx6QvYL"
      }
    },
    {
      "cell_type": "code",
      "source": [
        "import numpy as np\n",
        "import tensorflow as tf\n",
        "\n",
        "# Sample input data: (Age, Sex, ChestPainType, RestingBP, Cholesterol, FastingBS, RestingECG, MaxHR, ExerciseAngina, Oldpeak, ST_Slope)\n",
        "input_data = [63, 1, 3, 145, 233, 1, 2, 150, 0, 2.3, 3, 1, 0]  # Example of 13 features\n",
        "\n",
        "# Change the input data to a numpy array\n",
        "input_data_as_numpy_array = np.asarray(input_data)\n",
        "\n",
        "# Reshape the numpy array as we are predicting for only one instance (needs to be 3D for CNN)\n",
        "input_data_reshaped = input_data_as_numpy_array.reshape(1, input_data_as_numpy_array.shape[0], 1)\n",
        "\n",
        "# Predict using the trained CNN model\n",
        "prediction = cnn_model.predict(input_data_reshaped)\n",
        "\n",
        "# Output the result\n",
        "if prediction[0][0] < prediction[0][1]:\n",
        "    print('The Person does not have a Heart Disease')\n",
        "else:\n",
        "    print('The Person has Heart Disease')\n",
        "\n"
      ],
      "metadata": {
        "colab": {
          "base_uri": "https://localhost:8080/"
        },
        "id": "qtFyJJgGQ1HQ",
        "outputId": "7f609b3d-f8d7-4567-ed77-5adf0e2a60d5"
      },
      "execution_count": 43,
      "outputs": [
        {
          "output_type": "stream",
          "name": "stdout",
          "text": [
            "\u001b[1m1/1\u001b[0m \u001b[32m━━━━━━━━━━━━━━━━━━━━\u001b[0m\u001b[37m\u001b[0m \u001b[1m0s\u001b[0m 23ms/step\n",
            "The Person has Heart Disease\n"
          ]
        }
      ]
    },
    {
      "cell_type": "code",
      "source": [
        "import numpy as np\n",
        "import tensorflow as tf\n",
        "\n",
        "# Sample input data: (Age, Sex, ChestPainType, RestingBP, Cholesterol, FastingBS, RestingECG, MaxHR, ExerciseAngina, Oldpeak, ST_Slope)\n",
        "input_data = [59, 1, 1, 140, 221, 0, 1, 164, 1, 0.0, 2, 0, 2]  # Example of 13 features\n",
        "\n",
        "# Change the input data to a numpy array\n",
        "input_data_as_numpy_array = np.asarray(input_data)\n",
        "\n",
        "# Reshape the numpy array as we are predicting for only one instance (needs to be 3D for CNN)\n",
        "input_data_reshaped = input_data_as_numpy_array.reshape(1, input_data_as_numpy_array.shape[0], 1)\n",
        "\n",
        "# Predict using the trained CNN model\n",
        "prediction = cnn_model.predict(input_data_reshaped)\n",
        "\n",
        "# Output the result\n",
        "if prediction[0][0] < prediction[0][1]:\n",
        "    print('The Person does not have a Heart Disease')\n",
        "else:\n",
        "    print('The Person has Heart Disease')\n"
      ],
      "metadata": {
        "colab": {
          "base_uri": "https://localhost:8080/"
        },
        "id": "aOq68npCRMOQ",
        "outputId": "9f9b102c-458b-4a8b-bec4-2098ce7b2219"
      },
      "execution_count": 44,
      "outputs": [
        {
          "output_type": "stream",
          "name": "stdout",
          "text": [
            "\u001b[1m1/1\u001b[0m \u001b[32m━━━━━━━━━━━━━━━━━━━━\u001b[0m\u001b[37m\u001b[0m \u001b[1m0s\u001b[0m 21ms/step\n",
            "The Person does not have a Heart Disease\n"
          ]
        }
      ]
    },
    {
      "cell_type": "code",
      "source": [
        "import numpy as np\n",
        "import tensorflow as tf\n",
        "\n",
        "# Sample input data: (Age, Sex, ChestPainType, RestingBP, Cholesterol, FastingBS, RestingECG, MaxHR, ExerciseAngina, Oldpeak, ST_Slope)\n",
        "input_data = [50, 0, 0, 110, 254, 0, 0, 159, 0, 0.0, 2, 0, 2]  # Example of 13 features\n",
        "\n",
        "# Change the input data to a numpy array\n",
        "input_data_as_numpy_array = np.asarray(input_data)\n",
        "\n",
        "# Reshape the numpy array as we are predicting for only one instance (needs to be 3D for CNN)\n",
        "input_data_reshaped = input_data_as_numpy_array.reshape(1, input_data_as_numpy_array.shape[0], 1)\n",
        "\n",
        "# Predict using the trained CNN model\n",
        "prediction = cnn_model.predict(input_data_reshaped)\n",
        "\n",
        "# Output the result\n",
        "if prediction[0][0] < prediction[0][1]:\n",
        "    print('The Person does not have a Heart Disease')\n",
        "else:\n",
        "    print('The Person has Heart Disease')\n"
      ],
      "metadata": {
        "id": "mtfeQ4YeRWBg",
        "outputId": "432e4463-e962-4aa1-8bd1-84fb81bd260d",
        "colab": {
          "base_uri": "https://localhost:8080/"
        }
      },
      "execution_count": 45,
      "outputs": [
        {
          "output_type": "stream",
          "name": "stdout",
          "text": [
            "\u001b[1m1/1\u001b[0m \u001b[32m━━━━━━━━━━━━━━━━━━━━\u001b[0m\u001b[37m\u001b[0m \u001b[1m0s\u001b[0m 66ms/step\n",
            "The Person does not have a Heart Disease\n"
          ]
        }
      ]
    },
    {
      "cell_type": "code",
      "source": [
        "import numpy as np\n",
        "import tensorflow as tf\n",
        "\n",
        "# Sample input data: (Age, Sex, ChestPainType, RestingBP, Cholesterol, FastingBS, RestingECG, MaxHR, ExerciseAngina, Oldpeak, ST_Slope)\n",
        "input_data = [59, 1, 1, 140, 221, 0, 1, 164, 1, 0.0, 2, 0, 2]  # Example of 13 features\n",
        "\n",
        "# Change the input data to a numpy array\n",
        "input_data_as_numpy_array = np.asarray(input_data)\n",
        "\n",
        "# Reshape the numpy array as we are predicting for only one instance (needs to be 3D for CNN)\n",
        "input_data_reshaped = input_data_as_numpy_array.reshape(1, input_data_as_numpy_array.shape[0], 1)\n",
        "\n",
        "# Predict using the trained CNN model\n",
        "prediction = cnn_model.predict(input_data_reshaped)\n",
        "\n",
        "# Output the result\n",
        "if prediction[0][0] < prediction[0][1]:\n",
        "    print('The Person does not have a Heart Disease')\n",
        "else:\n",
        "    print('The Person has Heart Disease')\n"
      ],
      "metadata": {
        "id": "IbPj7R3_pAvy",
        "outputId": "905d2242-a1e1-48fc-ba43-5b9c51aef96b",
        "colab": {
          "base_uri": "https://localhost:8080/"
        }
      },
      "execution_count": 46,
      "outputs": [
        {
          "output_type": "stream",
          "name": "stdout",
          "text": [
            "\u001b[1m1/1\u001b[0m \u001b[32m━━━━━━━━━━━━━━━━━━━━\u001b[0m\u001b[37m\u001b[0m \u001b[1m0s\u001b[0m 43ms/step\n",
            "The Person does not have a Heart Disease\n"
          ]
        }
      ]
    },
    {
      "cell_type": "code",
      "source": [
        "import numpy as np\n",
        "import tensorflow as tf\n",
        "\n",
        "# Sample input data: (Age, Sex, ChestPainType, RestingBP, Cholesterol, FastingBS, RestingECG, MaxHR, ExerciseAngina, Oldpeak, ST_Slope)\n",
        "input_data = [63, 1, 3, 145, 233, 1, 2, 150, 0, 2.3, 3, 1, 0]  # Example of 13 features\n",
        "\n",
        "# Change the input data to a numpy array\n",
        "input_data_as_numpy_array = np.asarray(input_data)\n",
        "\n",
        "# Reshape the numpy array as we are predicting for only one instance (needs to be 3D for CNN)\n",
        "input_data_reshaped = input_data_as_numpy_array.reshape(1, input_data_as_numpy_array.shape[0], 1)\n",
        "\n",
        "# Predict using the trained CNN model\n",
        "prediction = cnn_model.predict(input_data_reshaped)\n",
        "\n",
        "# Output the result\n",
        "if prediction[0][0] < prediction[0][1]:\n",
        "    print('The Person does not have a Heart Disease')\n",
        "else:\n",
        "    print('The Person has Heart Disease')\n",
        "\n"
      ],
      "metadata": {
        "id": "ropaJKtfpTcr",
        "outputId": "a6c6011f-6233-4987-ef21-006a842e558a",
        "colab": {
          "base_uri": "https://localhost:8080/"
        }
      },
      "execution_count": 47,
      "outputs": [
        {
          "output_type": "stream",
          "name": "stdout",
          "text": [
            "\u001b[1m1/1\u001b[0m \u001b[32m━━━━━━━━━━━━━━━━━━━━\u001b[0m\u001b[37m\u001b[0m \u001b[1m0s\u001b[0m 73ms/step\n",
            "The Person has Heart Disease\n"
          ]
        }
      ]
    },
    {
      "cell_type": "code",
      "source": [],
      "metadata": {
        "id": "8jqMFqikpbsk"
      },
      "execution_count": null,
      "outputs": []
    }
  ]
}